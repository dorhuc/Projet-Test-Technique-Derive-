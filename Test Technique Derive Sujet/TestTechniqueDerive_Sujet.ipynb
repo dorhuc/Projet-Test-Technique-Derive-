{
 "cells": [
  {
   "cell_type": "markdown",
   "id": "b7b7e66e",
   "metadata": {},
   "source": [
    "<center><img src=\"https://is1-ssl.mzstatic.com/image/thumb/Purple122/v4/05/e7/67/05e76784-3364-b535-7e20-b3f4946a56b6/AppIcon-0-0-1x_U007emarketing-0-0-0-7-0-0-sRGB-0-0-0-GLES2_U002c0-512MB-85-220-0-0.png/434x0w.webp\" style=\"height:150px\"></center>\n",
    "\n",
    "<hr style=\"border-width:2px;border-color:red\">\n",
    "<center><h1>Test Technique Data Scientist</h1></center>\n",
    "<center><h2> Mesure de la dérive </h2></center>\n",
    "<hr style=\"border-width:2px;border-color:red\">\n",
    "\n",
    "# Contexte\n",
    "\n",
    "La **dérive** en apprentissage automatique (ou **\"drift\"** en anglais) fait référence à un **changement dans les données d'entrée ou de sortie d'un modèle** de machine learning **après son entraînement initial**. Cela peut se produire lorsque les données utilisées pour entraîner le modèle ne **reflètent plus la réalité**, ou lorsque **les conditions du problème changent de manière significative**.\n",
    "\n",
    "La dérive des données peut affecter la précision du modèle de manière significative et peut entraîner des erreurs coûteuses dans les prévisions ou les décisions basées sur le modèle. Par conséquent, **il est important de surveiller régulièrement les performances du modèle** et de le mettre à jour en fonction des nouveaux jeux de données ou des nouvelles conditions du problème.\n",
    "\n",
    "# Objectif\n",
    "\n",
    "Dans ce test, vous allez implémenter des métriques permettant de mesurer la dérive d'un modèle dans un usecase de **e-commerce** où nous essayons de prédire le **panier total** (variable **`TotalCart`** : chiffre d'affaire total d'un client sur la période donnée) des clients en fonction des variables suivantes:\n",
    "* **`Age`** : âge du client en années.\n",
    "* **`Seniority`** : ancienneté du client en années.\n",
    "* **`Orders`** : Nombre de commandes effectuées sur la période précédente.\n",
    "* **`Items`** : Nombre d'items commandés sur la période précédente.\n",
    "* **`AverageDiscount`** : Réduction moyenne accordée au client sur la période précédente en pourcentage.\n",
    "* **`TopCategory`** : Catégorie de produits favorite du client.\n",
    "* **`BrowsingTime`** : Temps total passé sur le site web sur la période précédente en secondes.\n",
    "* **`EmailsOpened`** : Nombre de mails marketing ouverts par le client sur la période précédente.\n",
    "* **`SupportInteractions`** : Nombre d'interactions que le client a eu avec le service client sur la période précédente.\n",
    "\n",
    "Le jeu de données est décomposé en 4 périodes correspondant aux 4 trimestres de l'année 2022. Vous trouverez les données correspondant à chaque période dans les fichiers **`period_0.csv`**, **`period_1.csv`**, ..., **`period_3.csv`**.\n",
    "\n",
    "Vous allez d'abord **entraîner et évaluer un modèle de machine learning** sur les données de la **période 0**. On supposera que ce modèle sera utilisé pour effectuer les prédictions de panier total sur toute l'année 2022.\n",
    "\n",
    "Ensuite, vous devrez **implémenter des métriques de dérive** qui vous seront données et **effectuer une analyse** de celle-ci.\n",
    "\n",
    "# Entraînement du modèle\n",
    "\n",
    "* **Entraînez et validez** deux ou trois modèles de votre choix sur les données de la période 0. \n",
    "\n",
    "**Conseils**\n",
    "\n",
    "* Vous serez évalué sur votre **rigueur** et non sur les performances du modèle.\n",
    "\n",
    "\n",
    "* Il n'est pas nécessaire de faire une analyse exploratoire des données.\n",
    "\n",
    "\n",
    "* Il n'est pas nécessaire de faire de recherche d'hyperparamètres optimaux non plus mais vous pouvez le faire si vous le souhaitez."
   ]
  },
  {
   "cell_type": "markdown",
   "id": "421325e2",
   "metadata": {},
   "source": [
    "* **Entrainez votre modèle sur toute la période 0** puis **testez votre modèle** sur les données des **périodes 1, 2 et 3**. Comment évolue la performance du modèle?"
   ]
  },
  {
   "cell_type": "markdown",
   "id": "3d4f3e4d",
   "metadata": {},
   "source": [
    "On importe les modules nécessaires pour la construction de nos modèles."
   ]
  },
  {
   "cell_type": "code",
   "execution_count": 21,
   "id": "a4e210ed",
   "metadata": {},
   "outputs": [],
   "source": [
    "import numpy as np\n",
    "import pandas as pd\n",
    "import matplotlib.pyplot as plt\n",
    "from sklearn.linear_model import LinearRegression \n",
    "from sklearn import preprocessing\n",
    "from sklearn.metrics import mean_squared_error, r2_score\n",
    "import tensorflow as tf\n",
    "from tensorflow import keras"
   ]
  },
  {
   "cell_type": "markdown",
   "id": "0045a5e7",
   "metadata": {},
   "source": [
    "On charge le jeu de données correspondant au 1er trimestre de l'année 2022 et on vérifie qu'il n'y a aucune valeur manquante."
   ]
  },
  {
   "cell_type": "code",
   "execution_count": 10,
   "id": "98a4b530",
   "metadata": {},
   "outputs": [
    {
     "data": {
      "text/plain": [
       "Age                    0\n",
       "Seniority              0\n",
       "Orders                 0\n",
       "Items                  0\n",
       "AverageDiscount        0\n",
       "TopCategory            0\n",
       "BrowsingTime           0\n",
       "EmailsOpened           0\n",
       "SupportInteractions    0\n",
       "TotalCart              0\n",
       "dtype: int64"
      ]
     },
     "execution_count": 10,
     "metadata": {},
     "output_type": "execute_result"
    }
   ],
   "source": [
    "period_0_train = pd.read_csv('period_0.csv')\n",
    "period_0_train.isnull().sum()"
   ]
  },
  {
   "cell_type": "markdown",
   "id": "8eafa1b7",
   "metadata": {},
   "source": [
    "On divise le jeu de données avec d'un côté la variable que l'on veut prédire qui correspond au chiffre d'affaire total d'un client sur la période 0 (y_train), et d'un autre côté les variables prédictives qui vont nous servir à prédire la variable 'TotalCart' (period_0_train)."
   ]
  },
  {
   "cell_type": "code",
   "execution_count": 11,
   "id": "cc67fcc4",
   "metadata": {},
   "outputs": [
    {
     "data": {
      "text/html": [
       "<div>\n",
       "<style scoped>\n",
       "    .dataframe tbody tr th:only-of-type {\n",
       "        vertical-align: middle;\n",
       "    }\n",
       "\n",
       "    .dataframe tbody tr th {\n",
       "        vertical-align: top;\n",
       "    }\n",
       "\n",
       "    .dataframe thead th {\n",
       "        text-align: right;\n",
       "    }\n",
       "</style>\n",
       "<table border=\"1\" class=\"dataframe\">\n",
       "  <thead>\n",
       "    <tr style=\"text-align: right;\">\n",
       "      <th></th>\n",
       "      <th>Age</th>\n",
       "      <th>Seniority</th>\n",
       "      <th>Orders</th>\n",
       "      <th>Items</th>\n",
       "      <th>AverageDiscount</th>\n",
       "      <th>TopCategory</th>\n",
       "      <th>BrowsingTime</th>\n",
       "      <th>EmailsOpened</th>\n",
       "      <th>SupportInteractions</th>\n",
       "    </tr>\n",
       "  </thead>\n",
       "  <tbody>\n",
       "    <tr>\n",
       "      <th>0</th>\n",
       "      <td>21</td>\n",
       "      <td>2</td>\n",
       "      <td>4</td>\n",
       "      <td>7</td>\n",
       "      <td>0.14</td>\n",
       "      <td>Clothing,Shoes &amp; Jewelry</td>\n",
       "      <td>68.473629</td>\n",
       "      <td>3</td>\n",
       "      <td>2</td>\n",
       "    </tr>\n",
       "    <tr>\n",
       "      <th>1</th>\n",
       "      <td>22</td>\n",
       "      <td>0</td>\n",
       "      <td>4</td>\n",
       "      <td>5</td>\n",
       "      <td>0.50</td>\n",
       "      <td>Toys &amp; Games</td>\n",
       "      <td>29.258063</td>\n",
       "      <td>1</td>\n",
       "      <td>0</td>\n",
       "    </tr>\n",
       "    <tr>\n",
       "      <th>2</th>\n",
       "      <td>22</td>\n",
       "      <td>1</td>\n",
       "      <td>2</td>\n",
       "      <td>6</td>\n",
       "      <td>0.37</td>\n",
       "      <td>Health, Household &amp; Baby Care</td>\n",
       "      <td>11.515517</td>\n",
       "      <td>0</td>\n",
       "      <td>0</td>\n",
       "    </tr>\n",
       "    <tr>\n",
       "      <th>3</th>\n",
       "      <td>19</td>\n",
       "      <td>0</td>\n",
       "      <td>2</td>\n",
       "      <td>8</td>\n",
       "      <td>0.60</td>\n",
       "      <td>Toys &amp; Games</td>\n",
       "      <td>74.495861</td>\n",
       "      <td>1</td>\n",
       "      <td>0</td>\n",
       "    </tr>\n",
       "    <tr>\n",
       "      <th>4</th>\n",
       "      <td>25</td>\n",
       "      <td>1</td>\n",
       "      <td>1</td>\n",
       "      <td>5</td>\n",
       "      <td>0.58</td>\n",
       "      <td>Toys &amp; Games</td>\n",
       "      <td>1.682705</td>\n",
       "      <td>2</td>\n",
       "      <td>1</td>\n",
       "    </tr>\n",
       "  </tbody>\n",
       "</table>\n",
       "</div>"
      ],
      "text/plain": [
       "   Age  Seniority  Orders  Items  AverageDiscount  \\\n",
       "0   21          2       4      7             0.14   \n",
       "1   22          0       4      5             0.50   \n",
       "2   22          1       2      6             0.37   \n",
       "3   19          0       2      8             0.60   \n",
       "4   25          1       1      5             0.58   \n",
       "\n",
       "                     TopCategory  BrowsingTime  EmailsOpened  \\\n",
       "0       Clothing,Shoes & Jewelry     68.473629             3   \n",
       "1                   Toys & Games     29.258063             1   \n",
       "2  Health, Household & Baby Care     11.515517             0   \n",
       "3                   Toys & Games     74.495861             1   \n",
       "4                   Toys & Games      1.682705             2   \n",
       "\n",
       "   SupportInteractions  \n",
       "0                    2  \n",
       "1                    0  \n",
       "2                    0  \n",
       "3                    0  \n",
       "4                    1  "
      ]
     },
     "execution_count": 11,
     "metadata": {},
     "output_type": "execute_result"
    }
   ],
   "source": [
    "y_train = period_0_train.iloc[:,9]\n",
    "period_0_train.drop(period_0_train.columns[9], axis = 1, inplace = True)\n",
    "period_0_train.head()"
   ]
  },
  {
   "cell_type": "markdown",
   "id": "b7c9f61b",
   "metadata": {},
   "source": [
    "On fait de même pour les semestres 1, 2 et 3."
   ]
  },
  {
   "cell_type": "code",
   "execution_count": 12,
   "id": "ac6b49e2",
   "metadata": {},
   "outputs": [],
   "source": [
    "period_1_test = pd.read_csv('period_1.csv')\n",
    "y_test_1 = period_1_test.iloc[:,9]\n",
    "period_1_test.drop(period_1_test.columns[9], axis = 1, inplace = True)"
   ]
  },
  {
   "cell_type": "code",
   "execution_count": 13,
   "id": "c5ca478f",
   "metadata": {},
   "outputs": [],
   "source": [
    "period_2_test = pd.read_csv('period_2.csv')\n",
    "y_test_2 = period_2_test.iloc[:,9]\n",
    "period_2_test.drop(period_2_test.columns[9], axis = 1, inplace = True)"
   ]
  },
  {
   "cell_type": "code",
   "execution_count": 14,
   "id": "58516893",
   "metadata": {},
   "outputs": [],
   "source": [
    "period_3_test = pd.read_csv('period_3.csv')\n",
    "y_test_3 = period_3_test.iloc[:,9]\n",
    "period_3_test.drop(period_3_test.columns[9], axis = 1, inplace = True)"
   ]
  },
  {
   "cell_type": "markdown",
   "id": "71710013",
   "metadata": {},
   "source": [
    "On remarque que la colonne 'TopCategory' de notre jeu de données présente des données de type différent des autres colonnes. Pour remédier à ce problème, on remplace les variables définies par des chaînes de caractères par plusieurs nouvelles variables définies par des entiers avec une nouvelle variable par chaîne de caractères différente."
   ]
  },
  {
   "cell_type": "code",
   "execution_count": 15,
   "id": "97f07be2",
   "metadata": {},
   "outputs": [],
   "source": [
    "period_0_train = pd.get_dummies(period_0_train)"
   ]
  },
  {
   "cell_type": "markdown",
   "id": "d840adb9",
   "metadata": {},
   "source": [
    "De plus, certaines variables présentent des valeurs définies dans des échelles relativement différentes par rapport aux autres. Ainsi, on va procéder à la normalisation de l'ensemble des variables."
   ]
  },
  {
   "cell_type": "code",
   "execution_count": 16,
   "id": "1fd85502",
   "metadata": {},
   "outputs": [],
   "source": [
    "period_0_train = preprocessing.StandardScaler().fit_transform(period_0_train)"
   ]
  },
  {
   "cell_type": "markdown",
   "id": "77068ae3",
   "metadata": {},
   "source": [
    "On fait de même pour les semestres 1, 2 et 3."
   ]
  },
  {
   "cell_type": "code",
   "execution_count": 17,
   "id": "f5c4c91d",
   "metadata": {},
   "outputs": [],
   "source": [
    "period_1_test = pd.get_dummies(period_1_test)\n",
    "period_1_test = preprocessing.StandardScaler().fit_transform(period_1_test)"
   ]
  },
  {
   "cell_type": "code",
   "execution_count": 18,
   "id": "a1b77ffc",
   "metadata": {},
   "outputs": [],
   "source": [
    "period_2_test = pd.get_dummies(period_2_test)\n",
    "period_2_test = preprocessing.StandardScaler().fit_transform(period_2_test)"
   ]
  },
  {
   "cell_type": "code",
   "execution_count": 19,
   "id": "200b1e31",
   "metadata": {},
   "outputs": [],
   "source": [
    "period_3_test = pd.get_dummies(period_3_test)\n",
    "period_3_test = preprocessing.StandardScaler().fit_transform(period_3_test)"
   ]
  },
  {
   "cell_type": "markdown",
   "id": "0b4d3eeb",
   "metadata": {},
   "source": [
    "On choisit comme premier modèle simple, un modèle de régression linéaire sur lequel on va entraîner nos données."
   ]
  },
  {
   "cell_type": "code",
   "execution_count": 20,
   "id": "3e45e3c9",
   "metadata": {},
   "outputs": [
    {
     "data": {
      "text/plain": [
       "LinearRegression()"
      ]
     },
     "execution_count": 20,
     "metadata": {},
     "output_type": "execute_result"
    }
   ],
   "source": [
    "reg_lin_alg = LinearRegression()\n",
    "reg_lin_alg_mod = reg_lin_alg.fit(period_0_train, y_train)\n",
    "reg_lin_alg_mod"
   ]
  },
  {
   "cell_type": "markdown",
   "id": "b6483fde",
   "metadata": {},
   "source": [
    "On regarde les performances de notre modèle sur les périodes 1, 2 et 3 avec les métriques 'Mean squared error' et 'R2 score'. "
   ]
  },
  {
   "cell_type": "code",
   "execution_count": 28,
   "id": "accb8e6a",
   "metadata": {},
   "outputs": [
    {
     "name": "stdout",
     "output_type": "stream",
     "text": [
      "Mean squared error pour le semestre 2 :  82.79\n",
      "R2 score pour le semestre 2 :  0.77\n"
     ]
    }
   ],
   "source": [
    "period_1_test_pred = reg_lin_alg_mod.predict(period_1_test)\n",
    "period_1_mse = mean_squared_error(y_test_1, period_1_test_pred)\n",
    "period_1_r2_score = r2_score(y_test_1, period_1_test_pred)\n",
    "print(\"Mean squared error pour le semestre 2 : \", round(period_1_mse,2))\n",
    "print(\"R2 score pour le semestre 2 : \", round(period_1_r2_score,2))"
   ]
  },
  {
   "cell_type": "code",
   "execution_count": 29,
   "id": "f97be6b2",
   "metadata": {},
   "outputs": [
    {
     "name": "stdout",
     "output_type": "stream",
     "text": [
      "Mean squared error pour le semestre 3 :  107.63\n",
      "R2 score pour le semestre 3 :  0.72\n"
     ]
    }
   ],
   "source": [
    "period_2_test_pred = reg_lin_alg_mod.predict(period_2_test)\n",
    "period_2_mse = mean_squared_error(y_test_2, period_2_test_pred)\n",
    "period_2_r2_score = r2_score(y_test_2, period_2_test_pred)\n",
    "print(\"Mean squared error pour le semestre 3 : \", round(period_2_mse,2))\n",
    "print(\"R2 score pour le semestre 3 : \", round(period_2_r2_score,2))"
   ]
  },
  {
   "cell_type": "code",
   "execution_count": 30,
   "id": "d15b2d8f",
   "metadata": {},
   "outputs": [
    {
     "name": "stdout",
     "output_type": "stream",
     "text": [
      "Mean squared error pour le semestre 4 :  229.01\n",
      "R2 score pour le semestre 4 :  0.58\n"
     ]
    }
   ],
   "source": [
    "period_3_test_pred = reg_lin_alg_mod.predict(period_3_test)\n",
    "period_3_mse = mean_squared_error(y_test_3, period_3_test_pred)\n",
    "period_3_r2_score = r2_score(y_test_3, period_3_test_pred)\n",
    "print(\"Mean squared error pour le semestre 4 : \", round(period_3_mse,2))\n",
    "print(\"R2 score pour le semestre 4 : \", round(period_3_r2_score,2))"
   ]
  },
  {
   "cell_type": "code",
   "execution_count": 38,
   "id": "f977bf62",
   "metadata": {},
   "outputs": [
    {
     "data": {
      "image/png": "[encoded data removed]",
      "text/plain": [
       "<Figure size 864x576 with 1 Axes>"
      ]
     },
     "metadata": {
      "needs_background": "light"
     },
     "output_type": "display_data"
    },
    {
     "data": {
      "image/png": "[encoded data removed]",
      "text/plain": [
       "<Figure size 864x576 with 1 Axes>"
      ]
     },
     "metadata": {
      "needs_background": "light"
     },
     "output_type": "display_data"
    }
   ],
   "source": [
    "plt.figure(figsize=(12,8))\n",
    "plt.plot([2, 3, 4], [period_1_mse, period_2_mse, period_3_mse])\n",
    "plt.gca().set_xlim([1.8,4.2])\n",
    "plt.xlabel('Semestres')\n",
    "plt.ylabel(\"Mean squared error\")\n",
    "plt.title(\"Mean squared error selon les différents semestres 2022\")\n",
    "plt.show()\n",
    "plt.figure(figsize=(12,8))\n",
    "plt.plot([2, 3, 4], [period_1_r2_score, period_2_r2_score, period_3_r2_score])\n",
    "plt.gca().set_xlim([1.8,4.2])\n",
    "plt.xlabel('Semestres')\n",
    "plt.ylabel(\"R2 score\")\n",
    "plt.title(\"R2 score selon les différents semestres 2022\")\n",
    "plt.show()"
   ]
  },
  {
   "cell_type": "markdown",
   "id": "4c721ece",
   "metadata": {},
   "source": [
    "On constate que le MSE, autrement dit la moyenne des écarts au carré entre les valeurs prédites et les valeurs observées, augmente entre le semestre 2 et 3 (de 82,79 à 107,63 soit une augmentation de 30%), et augmente de manière encore plus significative entre le semestre 3 et 4 (de 107,63 à 229,01 soit une augmentation de 112,78%!).\n",
    "De plus, on observe également une diminution du R2 entre le semestre 2 et 3 (de 0,77 à 0,72), puis entre le semestre 3 et 4 (de 0,72 à 0,58), ce qui se traduit par des prédictions qui sont de plus en plus mauvaises puisqu'elles ont tendance à refléter davantage la moyenne des observations au fur et à mesure des semestres."
   ]
  },
  {
   "cell_type": "markdown",
   "id": "229a976c",
   "metadata": {},
   "source": [
    "Maintenant, on va se pencher sur un modèle plus complexe, en l'occurence sur un réseau de neurones avec la classe Sequential API."
   ]
  },
  {
   "cell_type": "markdown",
   "id": "99631eae",
   "metadata": {},
   "source": [
    "On définit la structure de notre réseau de neurones de la manière suivante. On créé un réseau de neurones pour lequel les couches sont connectées les unes aux autres de manière linéaire. La couche d'entrée prend en argument nos données d'entraînement, sur lesquelles on va appliquer une méthode de régularisation de type Dropout, avec une probabilité de 0,3 de désactivation d'un neurone en entrée. On va ensuite appliquer 4 couches de type Dense, une première composée de 60 neurones appliquant la fonction d'activation 'Relu', une seconde composée de 30 neurones appliquant la fonction d'activation 'Relu', une troisième composée de 10 neurones appliquant la fonction d'activation 'Relu', et enfin une quatrième composée d'un seul neurone en sortie."
   ]
  },
  {
   "cell_type": "code",
   "execution_count": null,
   "id": "e5451b3a",
   "metadata": {},
   "outputs": [],
   "source": [
    "model = keras.models.Sequential()\n",
    "model.add(keras.layers.Input(shape = period_0_train.shape[1]))\n",
    "model.add(keras.layers.Dropout(0.3))\n",
    "model.add(keras.layers.Dense(60, activation = \"relu\"))\n",
    "model.add(keras.layers.Dense(30, activation = \"relu\"))\n",
    "model.add(keras.layers.Dense(10, activation = \"relu\"))\n",
    "model.add(keras.layers.Dense(1))"
   ]
  },
  {
   "cell_type": "markdown",
   "id": "9a45084e",
   "metadata": {},
   "source": [
    "On compile notre réseau de neurones en utilisant comme fonction loss le MSE, comme fonction d'optimisation le RMSprop, et comme métrique de performance le MAE."
   ]
  },
  {
   "cell_type": "code",
   "execution_count": 34,
   "id": "dc4712c1",
   "metadata": {},
   "outputs": [],
   "source": [
    "model.compile(loss = \"mse\", optimizer = \"rmsprop\", metrics = [\"mae\"])"
   ]
  },
  {
   "cell_type": "markdown",
   "id": "f9e6a61b",
   "metadata": {},
   "source": [
    "On entraîne maintenant notre modèle avec 70 itérations, en séparant le jeu de données en données d'entraînement qui serviront à entraîner notre modèle, et en données de validation qui permettront d'évaluer les performances de notre réseau de neurone à la fin de chaque itération."
   ]
  },
  {
   "cell_type": "code",
   "execution_count": 35,
   "id": "2b87eaea",
   "metadata": {},
   "outputs": [
    {
     "name": "stdout",
     "output_type": "stream",
     "text": [
      "Train on 700 samples, validate on 300 samples\n",
      "Epoch 1/70\n",
      "700/700 [==============================] - 1s 1ms/sample - loss: 1530.2198 - mae: 34.9219 - val_loss: 1367.8612 - val_mae: 33.0079\n",
      "Epoch 2/70\n",
      "700/700 [==============================] - 0s 149us/sample - loss: 1285.2187 - mae: 31.5900 - val_loss: 1108.0407 - val_mae: 29.1516\n",
      "Epoch 3/70\n",
      "700/700 [==============================] - 0s 159us/sample - loss: 957.0732 - mae: 26.2454 - val_loss: 800.0870 - val_mae: 23.7898\n",
      "Epoch 4/70\n",
      "700/700 [==============================] - 0s 153us/sample - loss: 651.4471 - mae: 20.5209 - val_loss: 504.0030 - val_mae: 17.5529\n",
      "Epoch 5/70\n",
      "700/700 [==============================] - 0s 150us/sample - loss: 392.6358 - mae: 15.0095 - val_loss: 299.0388 - val_mae: 12.6254\n",
      "Epoch 6/70\n",
      "700/700 [==============================] - 0s 149us/sample - loss: 279.9513 - mae: 12.5782 - val_loss: 214.8482 - val_mae: 10.3915\n",
      "Epoch 7/70\n",
      "700/700 [==============================] - 0s 150us/sample - loss: 232.8283 - mae: 11.2345 - val_loss: 185.8658 - val_mae: 9.4989\n",
      "Epoch 8/70\n",
      "700/700 [==============================] - 0s 147us/sample - loss: 216.7264 - mae: 10.5177 - val_loss: 161.8323 - val_mae: 8.7820\n",
      "Epoch 9/70\n",
      "700/700 [==============================] - 0s 168us/sample - loss: 190.1420 - mae: 9.6814 - val_loss: 149.6397 - val_mae: 8.5177\n",
      "Epoch 10/70\n",
      "700/700 [==============================] - 0s 254us/sample - loss: 188.5521 - mae: 9.3021 - val_loss: 131.3377 - val_mae: 7.9777\n",
      "Epoch 11/70\n",
      "700/700 [==============================] - 0s 289us/sample - loss: 212.9275 - mae: 9.5951 - val_loss: 129.7591 - val_mae: 8.0031\n",
      "Epoch 12/70\n",
      "700/700 [==============================] - 0s 249us/sample - loss: 184.3497 - mae: 8.9689 - val_loss: 115.6486 - val_mae: 7.4434\n",
      "Epoch 13/70\n",
      "700/700 [==============================] - 0s 278us/sample - loss: 204.6941 - mae: 9.1260 - val_loss: 113.6539 - val_mae: 7.4027\n",
      "Epoch 14/70\n",
      "700/700 [==============================] - 0s 289us/sample - loss: 176.6840 - mae: 8.7000 - val_loss: 107.5019 - val_mae: 7.1798\n",
      "Epoch 15/70\n",
      "700/700 [==============================] - 0s 282us/sample - loss: 182.7341 - mae: 8.6358 - val_loss: 109.9002 - val_mae: 7.3885\n",
      "Epoch 16/70\n",
      "700/700 [==============================] - 0s 279us/sample - loss: 157.3198 - mae: 8.4063 - val_loss: 111.9354 - val_mae: 7.5345\n",
      "Epoch 17/70\n",
      "700/700 [==============================] - 0s 331us/sample - loss: 174.4398 - mae: 8.3259 - val_loss: 112.7959 - val_mae: 7.5405\n",
      "Epoch 18/70\n",
      "700/700 [==============================] - 0s 328us/sample - loss: 157.4548 - mae: 8.2102 - val_loss: 95.8753 - val_mae: 6.6635\n",
      "Epoch 19/70\n",
      "700/700 [==============================] - 0s 303us/sample - loss: 145.8062 - mae: 8.0415 - val_loss: 103.0507 - val_mae: 7.2602\n",
      "Epoch 20/70\n",
      "700/700 [==============================] - 0s 352us/sample - loss: 147.2620 - mae: 7.9204 - val_loss: 95.5864 - val_mae: 6.7665\n",
      "Epoch 21/70\n",
      "700/700 [==============================] - 0s 154us/sample - loss: 150.6109 - mae: 7.9874 - val_loss: 99.5685 - val_mae: 7.0062\n",
      "Epoch 22/70\n",
      "700/700 [==============================] - 0s 112us/sample - loss: 149.2956 - mae: 7.9667 - val_loss: 94.3300 - val_mae: 6.6232\n",
      "Epoch 23/70\n",
      "700/700 [==============================] - 0s 171us/sample - loss: 141.6125 - mae: 7.5588 - val_loss: 101.4874 - val_mae: 7.0459\n",
      "Epoch 24/70\n",
      "700/700 [==============================] - 0s 150us/sample - loss: 155.5973 - mae: 8.0162 - val_loss: 96.5065 - val_mae: 6.7880\n",
      "Epoch 25/70\n",
      "700/700 [==============================] - 0s 297us/sample - loss: 140.0291 - mae: 7.8945 - val_loss: 93.4700 - val_mae: 6.6111\n",
      "Epoch 26/70\n",
      "700/700 [==============================] - 0s 269us/sample - loss: 153.3918 - mae: 7.8928 - val_loss: 96.3623 - val_mae: 6.6903\n",
      "Epoch 27/70\n",
      "700/700 [==============================] - 0s 240us/sample - loss: 163.3206 - mae: 8.0800 - val_loss: 98.3755 - val_mae: 6.8063\n",
      "Epoch 28/70\n",
      "700/700 [==============================] - 0s 229us/sample - loss: 134.3843 - mae: 7.6972 - val_loss: 94.1510 - val_mae: 6.5329\n",
      "Epoch 29/70\n",
      "700/700 [==============================] - 0s 218us/sample - loss: 179.9279 - mae: 7.9787 - val_loss: 89.7904 - val_mae: 6.2324\n",
      "Epoch 30/70\n",
      "700/700 [==============================] - 0s 190us/sample - loss: 162.7095 - mae: 7.8822 - val_loss: 91.9341 - val_mae: 6.4292\n",
      "Epoch 31/70\n",
      "700/700 [==============================] - 0s 121us/sample - loss: 155.1193 - mae: 7.8162 - val_loss: 90.5050 - val_mae: 6.3205\n",
      "Epoch 32/70\n",
      "700/700 [==============================] - 0s 128us/sample - loss: 158.7858 - mae: 7.7493 - val_loss: 91.7190 - val_mae: 6.4455\n",
      "Epoch 33/70\n",
      "700/700 [==============================] - 0s 132us/sample - loss: 141.9548 - mae: 7.6141 - val_loss: 98.5190 - val_mae: 6.7913\n",
      "Epoch 34/70\n",
      "700/700 [==============================] - 0s 136us/sample - loss: 164.6279 - mae: 8.0540 - val_loss: 87.3421 - val_mae: 6.0931\n",
      "Epoch 35/70\n",
      "700/700 [==============================] - 0s 134us/sample - loss: 148.7085 - mae: 7.7214 - val_loss: 91.6240 - val_mae: 6.4821\n",
      "Epoch 36/70\n",
      "700/700 [==============================] - 0s 136us/sample - loss: 126.6540 - mae: 7.1005 - val_loss: 87.8981 - val_mae: 6.1844\n",
      "Epoch 37/70\n",
      "700/700 [==============================] - 0s 129us/sample - loss: 168.8465 - mae: 7.8955 - val_loss: 80.3114 - val_mae: 5.6597\n",
      "Epoch 38/70\n",
      "700/700 [==============================] - 0s 131us/sample - loss: 136.0359 - mae: 7.3425 - val_loss: 82.9265 - val_mae: 5.8314\n",
      "Epoch 39/70\n",
      "700/700 [==============================] - 0s 141us/sample - loss: 143.5711 - mae: 7.4735 - val_loss: 100.7410 - val_mae: 7.1250\n",
      "Epoch 40/70\n",
      "700/700 [==============================] - 0s 172us/sample - loss: 165.1311 - mae: 7.7159 - val_loss: 100.4158 - val_mae: 6.9484\n",
      "Epoch 41/70\n",
      "700/700 [==============================] - 0s 167us/sample - loss: 133.5349 - mae: 7.4372 - val_loss: 85.2851 - val_mae: 6.0306\n",
      "Epoch 42/70\n",
      "700/700 [==============================] - 0s 304us/sample - loss: 175.7375 - mae: 7.9789 - val_loss: 90.0818 - val_mae: 6.2764\n",
      "Epoch 43/70\n",
      "700/700 [==============================] - 0s 239us/sample - loss: 157.1933 - mae: 7.7698 - val_loss: 85.6986 - val_mae: 5.9653\n",
      "Epoch 44/70\n",
      "700/700 [==============================] - 0s 220us/sample - loss: 146.0529 - mae: 7.5091 - val_loss: 88.8245 - val_mae: 6.2217\n",
      "Epoch 45/70\n",
      "700/700 [==============================] - 0s 212us/sample - loss: 121.9835 - mae: 7.2651 - val_loss: 84.6860 - val_mae: 6.0282\n",
      "Epoch 46/70\n",
      "700/700 [==============================] - 0s 219us/sample - loss: 154.3488 - mae: 7.4997 - val_loss: 80.5401 - val_mae: 5.7098\n",
      "Epoch 47/70\n",
      "700/700 [==============================] - 0s 231us/sample - loss: 161.3119 - mae: 7.9601 - val_loss: 90.3088 - val_mae: 6.3527\n",
      "Epoch 48/70\n",
      "700/700 [==============================] - 0s 227us/sample - loss: 142.4519 - mae: 7.4573 - val_loss: 94.0081 - val_mae: 6.5532\n",
      "Epoch 49/70\n",
      "700/700 [==============================] - 0s 176us/sample - loss: 151.1257 - mae: 7.7776 - val_loss: 77.6880 - val_mae: 5.4832\n",
      "Epoch 50/70\n",
      "700/700 [==============================] - 0s 127us/sample - loss: 152.2920 - mae: 7.5017 - val_loss: 85.7616 - val_mae: 6.0936\n",
      "Epoch 51/70\n",
      "700/700 [==============================] - 0s 128us/sample - loss: 151.0032 - mae: 7.5727 - val_loss: 90.8065 - val_mae: 6.4016\n",
      "Epoch 52/70\n",
      "700/700 [==============================] - 0s 122us/sample - loss: 124.7322 - mae: 7.1942 - val_loss: 76.5335 - val_mae: 5.3785\n",
      "Epoch 53/70\n",
      "700/700 [==============================] - 0s 128us/sample - loss: 155.8739 - mae: 7.3503 - val_loss: 96.8605 - val_mae: 6.7451\n",
      "Epoch 54/70\n",
      "700/700 [==============================] - 0s 125us/sample - loss: 158.1809 - mae: 7.7150 - val_loss: 90.9260 - val_mae: 6.3919\n",
      "Epoch 55/70\n",
      "700/700 [==============================] - 0s 131us/sample - loss: 147.8588 - mae: 7.6379 - val_loss: 83.4616 - val_mae: 5.8527\n",
      "Epoch 56/70\n",
      "700/700 [==============================] - 0s 128us/sample - loss: 159.3076 - mae: 7.9846 - val_loss: 87.4855 - val_mae: 6.0146\n",
      "Epoch 57/70\n",
      "700/700 [==============================] - 0s 128us/sample - loss: 139.8761 - mae: 7.4021 - val_loss: 81.4235 - val_mae: 5.7314\n",
      "Epoch 58/70\n",
      "700/700 [==============================] - 0s 122us/sample - loss: 144.1075 - mae: 7.6664 - val_loss: 94.5400 - val_mae: 6.7078\n"
     ]
    },
    {
     "name": "stdout",
     "output_type": "stream",
     "text": [
      "Epoch 59/70\n",
      "700/700 [==============================] - 0s 121us/sample - loss: 141.9494 - mae: 7.3078 - val_loss: 84.0631 - val_mae: 6.0388\n",
      "Epoch 60/70\n",
      "700/700 [==============================] - 0s 125us/sample - loss: 143.0655 - mae: 7.5587 - val_loss: 81.0711 - val_mae: 5.7844\n",
      "Epoch 61/70\n",
      "700/700 [==============================] - 0s 128us/sample - loss: 140.3842 - mae: 7.4362 - val_loss: 80.0628 - val_mae: 5.6363\n",
      "Epoch 62/70\n",
      "700/700 [==============================] - 0s 120us/sample - loss: 131.0889 - mae: 7.1536 - val_loss: 87.8318 - val_mae: 6.1669\n",
      "Epoch 63/70\n",
      "700/700 [==============================] - 0s 122us/sample - loss: 154.1874 - mae: 7.5847 - val_loss: 83.7475 - val_mae: 5.8032\n",
      "Epoch 64/70\n",
      "700/700 [==============================] - 0s 129us/sample - loss: 163.2602 - mae: 7.5040 - val_loss: 82.1980 - val_mae: 5.7427\n",
      "Epoch 65/70\n",
      "700/700 [==============================] - 0s 128us/sample - loss: 146.8312 - mae: 7.3604 - val_loss: 95.2123 - val_mae: 6.7509\n",
      "Epoch 66/70\n",
      "700/700 [==============================] - 0s 121us/sample - loss: 150.2410 - mae: 7.4936 - val_loss: 80.3773 - val_mae: 5.7294\n",
      "Epoch 67/70\n",
      "700/700 [==============================] - 0s 129us/sample - loss: 138.9406 - mae: 7.2468 - val_loss: 75.9563 - val_mae: 5.4995\n",
      "Epoch 68/70\n",
      "700/700 [==============================] - 0s 127us/sample - loss: 125.5823 - mae: 7.0013 - val_loss: 78.1600 - val_mae: 5.5693\n",
      "Epoch 69/70\n",
      "700/700 [==============================] - 0s 139us/sample - loss: 132.3304 - mae: 7.2277 - val_loss: 78.7167 - val_mae: 5.5498\n",
      "Epoch 70/70\n",
      "700/700 [==============================] - 0s 119us/sample - loss: 144.3626 - mae: 7.4616 - val_loss: 78.7148 - val_mae: 5.5569\n"
     ]
    }
   ],
   "source": [
    "results = model.fit(period_0_train, y_train, epochs = 70, validation_split = 0.3)"
   ]
  },
  {
   "cell_type": "markdown",
   "id": "ef4da61f",
   "metadata": {},
   "source": [
    "On affiche un récapitulatif de nos résultats suite aux 70 itérations."
   ]
  },
  {
   "cell_type": "code",
   "execution_count": 39,
   "id": "f1f67a0a",
   "metadata": {},
   "outputs": [
    {
     "name": "stderr",
     "output_type": "stream",
     "text": [
      "C:\\Users\\doria\\anaconda3\\envs\\TensorFlow\\lib\\site-packages\\pandas\\core\\frame.py:4308: SettingWithCopyWarning: \n",
      "A value is trying to be set on a copy of a slice from a DataFrame\n",
      "\n",
      "See the caveats in the documentation: https://pandas.pydata.org/pandas-docs/stable/user_guide/indexing.html#returning-a-view-versus-a-copy\n",
      "  errors=errors,\n"
     ]
    },
    {
     "data": {
      "image/png": "[encoded data removed]",
      "text/plain": [
       "<Figure size 864x576 with 1 Axes>"
      ]
     },
     "metadata": {
      "needs_background": "light"
     },
     "output_type": "display_data"
    },
    {
     "data": {
      "image/png": "[encoded data removed]",
      "text/plain": [
       "<Figure size 864x576 with 1 Axes>"
      ]
     },
     "metadata": {
      "needs_background": "light"
     },
     "output_type": "display_data"
    }
   ],
   "source": [
    "df_loss_mae = pd.DataFrame(results.history)\n",
    "df_loss= df_loss_mae[['loss','val_loss']]\n",
    "df_loss.rename(columns={'loss':'train','val_loss':'validation'},inplace=True)\n",
    "df_mae= df_loss_mae[['mae','val_mae']]\n",
    "df_mae.rename(columns={'mae':'train','val_mae':'validation'},inplace=True)\n",
    "df_loss.plot(title='Evolution de la fonction loss notre modèle pour 70 itérations',figsize=(12,8)).set(xlabel='Epoch',ylabel='Loss')\n",
    "plt.show()\n",
    "df_mae.plot(title='Evolution du MAE de notre modèle pour 70 itérations',figsize=(12,8)).set(xlabel='Epoch',ylabel='Mae')\n",
    "plt.show()"
   ]
  },
  {
   "cell_type": "markdown",
   "id": "fba40fcb",
   "metadata": {},
   "source": [
    "On regarde maintenant la performance de notre modèle sur les semestres 2, 3 et 4."
   ]
  },
  {
   "cell_type": "code",
   "execution_count": 40,
   "id": "bcb38899",
   "metadata": {},
   "outputs": [
    {
     "name": "stdout",
     "output_type": "stream",
     "text": [
      "1000/1000 [==============================] - 0s 34us/sample - loss: 106.1189 - mae: 7.7685\n",
      "[106.11889129638672, 7.7684636]\n"
     ]
    }
   ],
   "source": [
    "score_period_1 = model.evaluate(period_1_test, y_test_1)\n",
    "print(score_period_1)"
   ]
  },
  {
   "cell_type": "code",
   "execution_count": 41,
   "id": "afe42518",
   "metadata": {},
   "outputs": [
    {
     "name": "stdout",
     "output_type": "stream",
     "text": [
      "1000/1000 [==============================] - 0s 36us/sample - loss: 131.7716 - mae: 8.7543\n",
      "[131.77155126953124, 8.754341]\n"
     ]
    }
   ],
   "source": [
    "score_period_2 = model.evaluate(period_2_test, y_test_2)\n",
    "print(score_period_2)"
   ]
  },
  {
   "cell_type": "code",
   "execution_count": 42,
   "id": "1b68f309",
   "metadata": {},
   "outputs": [
    {
     "name": "stdout",
     "output_type": "stream",
     "text": [
      "1000/1000 [==============================] - 0s 39us/sample - loss: 259.6751 - mae: 12.8005\n",
      "[259.675076171875, 12.800545]\n"
     ]
    }
   ],
   "source": [
    "score_period_3 = model.evaluate(period_3_test, y_test_3)\n",
    "print(score_period_3)"
   ]
  },
  {
   "cell_type": "code",
   "execution_count": 44,
   "id": "69d6e5a3",
   "metadata": {},
   "outputs": [
    {
     "data": {
      "image/png": "[encoded data removed]",
      "text/plain": [
       "<Figure size 864x576 with 1 Axes>"
      ]
     },
     "metadata": {
      "needs_background": "light"
     },
     "output_type": "display_data"
    }
   ],
   "source": [
    "plt.figure(figsize=(12,8))\n",
    "plt.plot([2, 3, 4], [score_period_1[1], score_period_2[1], score_period_3[1]])\n",
    "plt.gca().set_xlim([1.8,4.2])\n",
    "plt.xlabel('Semestres')\n",
    "plt.ylabel(\"Mean absolute error\")\n",
    "plt.title(\"Mean absolute error selon les différents semestres 2022\")\n",
    "plt.show()"
   ]
  },
  {
   "cell_type": "markdown",
   "id": "5c7a7c54",
   "metadata": {},
   "source": [
    "On constate que le MAE, qui correspond à la moyenne des écarts entre les valeurs prédites et les valeurs observées en valeur absolut, augmente entre le semestre 2 et 3 (de 7,77 à 8,75 soit une augmentation de 12,61%), et augmente de manière encore plus significative entre le semestre 3 et 4 (de 8,75 à 12,80 soit une augmentation de 46,29%). Cela traduit un appauvrissement de la qualité des prédictions au fur et à mesure des semestres pour le modèle construit sur la période 0."
   ]
  },
  {
   "cell_type": "markdown",
   "id": "99459d15",
   "metadata": {},
   "source": [
    "# Mesure de la dérive de variables catégorielles.\n",
    "\n",
    "Pour deux distributions de probabilités discrètes $P$ et $Q$, la **divergence de Kullback–Leibler** de $P$ par rapport à $Q$ est définie par:\n",
    "\n",
    "$$D_\\text{KL}(P \\parallel Q) = \\sum_{x\\in\\mathcal{X}} P(x) \\log\\left(\\frac{P(x)}{Q(x)}\\right)$$\n",
    "\n",
    "\n",
    "On définit la **divergence de Jensen-Shannon** comme une version lisse et symétrique de la divergence de Kullback-Leiber donnée par la formule suivante:\n",
    "\n",
    "$${\\rm JSD}(P \\parallel Q)= \\frac{1}{2}D(P \\parallel M)+\\frac{1}{2}D(Q \\parallel M)$$\n",
    "\n",
    "où $M=\\frac{1}{2}(P+Q)$\n",
    "\n",
    "### Exemple de calcul de $D_\\text{KL}(P \\parallel Q)$ : \n",
    "\n",
    "Soient $P$ =`[0.2, 0.3, 0.5]` et $Q$ =`[0.2, 0.4, 0.4]` deux vecteurs définissant une loi de probabilité discrete. Alors : \n",
    "\n",
    "$$\n",
    "\\begin{equation}\n",
    "\\begin{split}\n",
    "D_\\text{KL}(P \\parallel Q) & = P(0) \\log\\left(\\frac{P(0)}{Q(0)}\\right)\n",
    "                             + P(1) \\log\\left(\\frac{P(1)}{Q(1)}\\right)\n",
    "                             + P(2) \\log\\left(\\frac{P(2)}{Q(2)}\\right)\\\\ \\\\\n",
    "                           & = 0.2 \\log\\left(\\frac{0.2}{0.2}\\right)\n",
    "                             + 0.3 \\log\\left(\\frac{0.3}{0.4}\\right)\n",
    "                             + 0.5 \\log\\left(\\frac{0.5}{0.4}\\right) \\\\ \\\\\n",
    "                           & = 0.02526...\n",
    "\\end{split}\n",
    "\\end{equation}\n",
    "$$\n",
    "\n",
    "### Exercice\n",
    "\n",
    "* Implémenter des fonctions nommées **`KLDivergence(P, Q)`** et **`JSDivergence(P, Q)`** permettant de calculer les métriques définies ci-dessus.\n",
    "\n",
    "**Conseils**:\n",
    "* Utiliser la librairie Numpy permettant de facilement effectuer des calculs d'algèbre linéaire."
   ]
  },
  {
   "cell_type": "code",
   "execution_count": 1,
   "id": "0993e50e",
   "metadata": {},
   "outputs": [],
   "source": [
    "import numpy as np \n",
    "\n",
    "P = np.array([0.2, 0.3, 0.5])\n",
    "Q = np.array([0.2, 0.4, 0.4])\n",
    "\n",
    "def KLDivergence(P, Q):\n",
    "    \n",
    "    d_kl = np.dot(P, np.log(np.divide(P,Q)))\n",
    "    \n",
    "    return d_kl\n",
    "\n",
    "def JSDivergence(P, Q):\n",
    "    \n",
    "    d_js = 1/2 * KLDivergence(P, 1/2*(P+Q)) + 1/2 * KLDivergence(Q, 1/2*(P+Q))\n",
    "    \n",
    "    return d_js\n",
    "    "
   ]
  },
  {
   "cell_type": "markdown",
   "id": "b288b04e",
   "metadata": {},
   "source": [
    "* Lancer la cellule suivante pour tester votre fonction."
   ]
  },
  {
   "cell_type": "code",
   "execution_count": 2,
   "id": "4f5a4969",
   "metadata": {},
   "outputs": [
    {
     "name": "stdout",
     "output_type": "stream",
     "text": [
      "K-L Divergence: 0.02526715392157057\n",
      "J-S Divergence: 0.006367198333995731\n"
     ]
    }
   ],
   "source": [
    "print(\"K-L Divergence:\", KLDivergence(P, Q))\n",
    "print(\"J-S Divergence:\", JSDivergence(P, Q))"
   ]
  },
  {
   "cell_type": "markdown",
   "id": "675968bf",
   "metadata": {},
   "source": [
    "# Mesure de la dérive de variables quantitatives.\n",
    "\n",
    "Soit $P$ une mesure empirique d'échantillons $X_1, \\ldots, X_n\n",
    "$ et $Q$ une mesure empirique d'échantillons $Y_1, \\ldots, Y_n$, on définit la **Distance de Wasserstein** d'ordre $p$ par la fonction suivante :\n",
    "\n",
    "$$W_p(P, Q) = \\left( \\frac{1}{n}\\sum_{i=1}^n \\|X_{(i)} - Y_{(i)}\\|^p \\right)^{1/p}$$\n",
    "\n",
    "où $X_{(1)}, \\ldots, X_{(n)}$ et $Y_{(1)}, \\ldots, Y_{(n)}$ sont les [**statistiques d'ordre**](https://en.wikipedia.org/wiki/Order_statistic#Notation_and_examples) des échantillons $X$ et $Y$ et $p$ un nombre entier positif.\n",
    "\n",
    "### Exercice\n",
    "\n",
    "* Implémenter une fonction nommée **`WassersteinDistance(X, Y, p)`** permettant de calculer cette métrique à l'ordre **`p`** à partir de **deux échantillons** **`X`** et **`Y`** que l'on supposera de même longueur.\n",
    "\n",
    "**Conseils**:\n",
    "* Vous pouvez trier les échantillons pour obtenir les statistiques d'ordre."
   ]
  },
  {
   "cell_type": "code",
   "execution_count": 47,
   "id": "107f656a",
   "metadata": {},
   "outputs": [],
   "source": [
    "def WassersteinDistance(X, Y, p):\n",
    "    \n",
    "    d_w = np.power(np.divide(1, Y.shape[0]) * np.linalg.norm(X-Y, p), 1/p)\n",
    "    \n",
    "    return d_w\n",
    "    "
   ]
  },
  {
   "cell_type": "markdown",
   "id": "fd06da66",
   "metadata": {},
   "source": [
    "* Lancer la cellule suivante pour tester votre fonction."
   ]
  },
  {
   "cell_type": "code",
   "execution_count": 48,
   "id": "11d0e0a5",
   "metadata": {},
   "outputs": [
    {
     "data": {
      "text/plain": [
       "0.14912986455622182"
      ]
     },
     "execution_count": 48,
     "metadata": {},
     "output_type": "execute_result"
    }
   ],
   "source": [
    "X = np.random.beta(2, 6, 100)\n",
    "\n",
    "Y = np.random.beta(3, 6, 100)\n",
    "\n",
    "WassersteinDistance(X, Y, 2)"
   ]
  },
  {
   "cell_type": "markdown",
   "id": "12dbe4fc",
   "metadata": {},
   "source": [
    "# Étude de la dérive du modèle.\n",
    "\n",
    "* En vous appuyant sur les métriques définies précédemment, illustrez et analysez visuellement la **dérive des données** ainsi que **la dérive du modèle** sur les périodes **1 à 3**. \n",
    "\n",
    "\n",
    "* Commenter les visualisations et déterminer si le modèle doit être mis à jour ou si sa performance est toujours acceptable. \n",
    "\n",
    "**Conseils**:\n",
    "* Vous serez évalué sur **la rigueur et le soin** que vous donnerez à votre analyse, et sur **vos capacités à synthéthiser votre étude**. Vous ne serez pas évalué sur vos conclusions.\n",
    "\n",
    "\n",
    "* Vous pouvez normaliser les données par rapport aux **moyennes et variances que vous calculerez sur la période 0** pour que les distances de Wasserstein pour différentes variables soient facilement comparables."
   ]
  },
  {
   "cell_type": "markdown",
   "id": "9b505a42",
   "metadata": {},
   "source": [
    "On calcule la distance de Wasserstein pour les valeurs prédites avec la régression linéaire et les valeurs observées sur les différents semestres avec p = 2."
   ]
  },
  {
   "cell_type": "code",
   "execution_count": 53,
   "id": "1c57da82",
   "metadata": {},
   "outputs": [
    {
     "name": "stdout",
     "output_type": "stream",
     "text": [
      "0.536 0.573 0.692\n"
     ]
    }
   ],
   "source": [
    "wd1 = WassersteinDistance(y_test_1, period_1_test_pred, 2)\n",
    "wd2 = WassersteinDistance(y_test_2, period_2_test_pred, 2)\n",
    "wd3 = WassersteinDistance(y_test_3, period_3_test_pred, 2)\n",
    "print(round(wd1,3), round(wd2,3), round(wd3,3))"
   ]
  },
  {
   "cell_type": "code",
   "execution_count": 50,
   "id": "2552671e",
   "metadata": {},
   "outputs": [
    {
     "data": {
      "image/png": "[encoded data removed]",
      "text/plain": [
       "<Figure size 864x576 with 1 Axes>"
      ]
     },
     "metadata": {
      "needs_background": "light"
     },
     "output_type": "display_data"
    }
   ],
   "source": [
    "plt.figure(figsize=(12,8))\n",
    "plt.plot([2, 3, 4], [wd1, wd2, wd3])\n",
    "plt.gca().set_xlim([1.8,4.2])\n",
    "plt.xlabel('Semestres')\n",
    "plt.ylabel(\"Distance de Wasserstein\")\n",
    "plt.title(\"Distance de Wasserstein selon les différents semestres 2022\")\n",
    "plt.show()"
   ]
  },
  {
   "cell_type": "markdown",
   "id": "e926cbbe",
   "metadata": {},
   "source": [
    "### Conclusion : \n",
    "\n",
    "Le modèle de régression linéaire que l'on a entraîné sur les données de la période 0 donne des prédictions correctes sur la période 1 avec un MSE de 82,79 et un R2 score de 0,77. Cependant, on observe une augmentation du MSE sur la période qui suit (107,63) ainsi qu'une baisse du R2 (0,72). Cette tendance est d'autant plus flagrante à la période 3 avec augmentation du MSE jusqu'à 229,01 et une chute du R2 à 0,58. \n",
    "\n",
    "Le réseau de neurones donne des résultats similaires about de 70 itérations avec une augmentation de plus en plus importante du MAE allant de 7,77 à 8,75 entre la période 1 et 2, puis de 8,75 à 12,80 entre la période 2 et 3.\n",
    "\n",
    "La distance de Wasserstein, appliquée sur les valeurs prédites et les valeurs observées sur les différents semestres, confirme cette tendance, ce qui se traduit par une dérive de plus en plus importante du modèle qui prédit de plus en plus mal le chiffre d'affaire total d'un client au fur et à mesure des semestres, ce qui nécessiterait une mise à jour du modèle."
   ]
  }
 ],
 "metadata": {
  "kernelspec": {
   "display_name": "Python 3",
   "language": "python",
   "name": "python3"
  },
  "language_info": {
   "codemirror_mode": {
    "name": "ipython",
    "version": 3
   },
   "file_extension": ".py",
   "mimetype": "text/x-python",
   "name": "python",
   "nbconvert_exporter": "python",
   "pygments_lexer": "ipython3",
   "version": "3.6.13"
  }
 },
 "nbformat": 4,
 "nbformat_minor": 5
}
