{
 "cells": [
  {
   "cell_type": "code",
   "execution_count": 16,
   "id": "e6532158",
   "metadata": {},
   "outputs": [],
   "source": [
    "import numpy as np\n",
    "import pandas as pd\n",
    "import matplotlib.pyplot as plt\n",
    "from sklearn.linear_model import LinearRegression \n",
    "from sklearn import preprocessing\n",
    "import tensorflow as tf\n",
    "from tensorflow import keras"
   ]
  },
  {
   "cell_type": "code",
   "execution_count": 17,
   "id": "13a59509",
   "metadata": {},
   "outputs": [
    {
     "data": {
      "text/plain": [
       "Age                    0\n",
       "Seniority              0\n",
       "Orders                 0\n",
       "Items                  0\n",
       "AverageDiscount        0\n",
       "TopCategory            0\n",
       "BrowsingTime           0\n",
       "EmailsOpened           0\n",
       "SupportInteractions    0\n",
       "TotalCart              0\n",
       "dtype: int64"
      ]
     },
     "execution_count": 17,
     "metadata": {},
     "output_type": "execute_result"
    }
   ],
   "source": [
    "period_0_train = pd.read_csv('period_0.csv')\n",
    "period_0_train.isnull().sum()"
   ]
  },
  {
   "cell_type": "code",
   "execution_count": 18,
   "id": "6682ba6c",
   "metadata": {},
   "outputs": [],
   "source": [
    "y_train = period_0_train.iloc[:,9]\n",
    "period_0_train.drop(period_0_train.columns[9], axis = 1, inplace = True)"
   ]
  },
  {
   "cell_type": "code",
   "execution_count": 19,
   "id": "e9d3958c",
   "metadata": {},
   "outputs": [
    {
     "data": {
      "text/html": [
       "<div>\n",
       "<style scoped>\n",
       "    .dataframe tbody tr th:only-of-type {\n",
       "        vertical-align: middle;\n",
       "    }\n",
       "\n",
       "    .dataframe tbody tr th {\n",
       "        vertical-align: top;\n",
       "    }\n",
       "\n",
       "    .dataframe thead th {\n",
       "        text-align: right;\n",
       "    }\n",
       "</style>\n",
       "<table border=\"1\" class=\"dataframe\">\n",
       "  <thead>\n",
       "    <tr style=\"text-align: right;\">\n",
       "      <th></th>\n",
       "      <th>Age</th>\n",
       "      <th>Seniority</th>\n",
       "      <th>Orders</th>\n",
       "      <th>Items</th>\n",
       "      <th>AverageDiscount</th>\n",
       "      <th>TopCategory</th>\n",
       "      <th>BrowsingTime</th>\n",
       "      <th>EmailsOpened</th>\n",
       "      <th>SupportInteractions</th>\n",
       "    </tr>\n",
       "  </thead>\n",
       "  <tbody>\n",
       "    <tr>\n",
       "      <th>0</th>\n",
       "      <td>21</td>\n",
       "      <td>2</td>\n",
       "      <td>4</td>\n",
       "      <td>7</td>\n",
       "      <td>0.14</td>\n",
       "      <td>Clothing,Shoes &amp; Jewelry</td>\n",
       "      <td>68.473629</td>\n",
       "      <td>3</td>\n",
       "      <td>2</td>\n",
       "    </tr>\n",
       "    <tr>\n",
       "      <th>1</th>\n",
       "      <td>22</td>\n",
       "      <td>0</td>\n",
       "      <td>4</td>\n",
       "      <td>5</td>\n",
       "      <td>0.50</td>\n",
       "      <td>Toys &amp; Games</td>\n",
       "      <td>29.258063</td>\n",
       "      <td>1</td>\n",
       "      <td>0</td>\n",
       "    </tr>\n",
       "    <tr>\n",
       "      <th>2</th>\n",
       "      <td>22</td>\n",
       "      <td>1</td>\n",
       "      <td>2</td>\n",
       "      <td>6</td>\n",
       "      <td>0.37</td>\n",
       "      <td>Health, Household &amp; Baby Care</td>\n",
       "      <td>11.515517</td>\n",
       "      <td>0</td>\n",
       "      <td>0</td>\n",
       "    </tr>\n",
       "    <tr>\n",
       "      <th>3</th>\n",
       "      <td>19</td>\n",
       "      <td>0</td>\n",
       "      <td>2</td>\n",
       "      <td>8</td>\n",
       "      <td>0.60</td>\n",
       "      <td>Toys &amp; Games</td>\n",
       "      <td>74.495861</td>\n",
       "      <td>1</td>\n",
       "      <td>0</td>\n",
       "    </tr>\n",
       "    <tr>\n",
       "      <th>4</th>\n",
       "      <td>25</td>\n",
       "      <td>1</td>\n",
       "      <td>1</td>\n",
       "      <td>5</td>\n",
       "      <td>0.58</td>\n",
       "      <td>Toys &amp; Games</td>\n",
       "      <td>1.682705</td>\n",
       "      <td>2</td>\n",
       "      <td>1</td>\n",
       "    </tr>\n",
       "  </tbody>\n",
       "</table>\n",
       "</div>"
      ],
      "text/plain": [
       "   Age  Seniority  Orders  Items  AverageDiscount  \\\n",
       "0   21          2       4      7             0.14   \n",
       "1   22          0       4      5             0.50   \n",
       "2   22          1       2      6             0.37   \n",
       "3   19          0       2      8             0.60   \n",
       "4   25          1       1      5             0.58   \n",
       "\n",
       "                     TopCategory  BrowsingTime  EmailsOpened  \\\n",
       "0       Clothing,Shoes & Jewelry     68.473629             3   \n",
       "1                   Toys & Games     29.258063             1   \n",
       "2  Health, Household & Baby Care     11.515517             0   \n",
       "3                   Toys & Games     74.495861             1   \n",
       "4                   Toys & Games      1.682705             2   \n",
       "\n",
       "   SupportInteractions  \n",
       "0                    2  \n",
       "1                    0  \n",
       "2                    0  \n",
       "3                    0  \n",
       "4                    1  "
      ]
     },
     "execution_count": 19,
     "metadata": {},
     "output_type": "execute_result"
    }
   ],
   "source": [
    "period_0_train.head()"
   ]
  },
  {
   "cell_type": "code",
   "execution_count": 20,
   "id": "051bc405",
   "metadata": {},
   "outputs": [
    {
     "data": {
      "text/plain": [
       "0    34.00\n",
       "1    28.28\n",
       "2    19.33\n",
       "3    26.83\n",
       "4    17.67\n",
       "Name: TotalCart, dtype: float64"
      ]
     },
     "execution_count": 20,
     "metadata": {},
     "output_type": "execute_result"
    }
   ],
   "source": [
    "y_train.head()"
   ]
  },
  {
   "cell_type": "code",
   "execution_count": 21,
   "id": "63496dc0",
   "metadata": {},
   "outputs": [],
   "source": [
    "period_1_test = pd.read_csv('period_1.csv')\n",
    "y_test_1 = period_1_test.iloc[:,9]\n",
    "period_1_test.drop(period_1_test.columns[9], axis = 1, inplace = True)"
   ]
  },
  {
   "cell_type": "code",
   "execution_count": 22,
   "id": "cb9f0acc",
   "metadata": {},
   "outputs": [],
   "source": [
    "period_2_test = pd.read_csv('period_2.csv')\n",
    "y_test_2 = period_2_test.iloc[:,9]\n",
    "period_2_test.drop(period_2_test.columns[9], axis = 1, inplace = True)"
   ]
  },
  {
   "cell_type": "code",
   "execution_count": 23,
   "id": "81a410b7",
   "metadata": {},
   "outputs": [],
   "source": [
    "period_3_test = pd.read_csv('period_3.csv')\n",
    "y_test_3 = period_3_test.iloc[:,9]\n",
    "period_3_test.drop(period_3_test.columns[9], axis = 1, inplace = True)"
   ]
  },
  {
   "cell_type": "code",
   "execution_count": 24,
   "id": "97c31adc",
   "metadata": {},
   "outputs": [
    {
     "data": {
      "text/plain": [
       "array(['Clothing,Shoes & Jewelry', 'Toys & Games',\n",
       "       'Health, Household & Baby Care', 'Electronics', 'Home & Kitchen',\n",
       "       'Pet Supplies', 'Beauty & Personal Care', 'Sports & outdoors',\n",
       "       'Office Supplies'], dtype=object)"
      ]
     },
     "execution_count": 24,
     "metadata": {},
     "output_type": "execute_result"
    }
   ],
   "source": [
    "period_0_train['TopCategory'].unique()"
   ]
  },
  {
   "cell_type": "code",
   "execution_count": 25,
   "id": "2d5fcfd0",
   "metadata": {},
   "outputs": [
    {
     "data": {
      "text/html": [
       "<div>\n",
       "<style scoped>\n",
       "    .dataframe tbody tr th:only-of-type {\n",
       "        vertical-align: middle;\n",
       "    }\n",
       "\n",
       "    .dataframe tbody tr th {\n",
       "        vertical-align: top;\n",
       "    }\n",
       "\n",
       "    .dataframe thead th {\n",
       "        text-align: right;\n",
       "    }\n",
       "</style>\n",
       "<table border=\"1\" class=\"dataframe\">\n",
       "  <thead>\n",
       "    <tr style=\"text-align: right;\">\n",
       "      <th></th>\n",
       "      <th>Age</th>\n",
       "      <th>Seniority</th>\n",
       "      <th>Orders</th>\n",
       "      <th>Items</th>\n",
       "      <th>AverageDiscount</th>\n",
       "      <th>BrowsingTime</th>\n",
       "      <th>EmailsOpened</th>\n",
       "      <th>SupportInteractions</th>\n",
       "      <th>TopCategory_Beauty &amp; Personal Care</th>\n",
       "      <th>TopCategory_Clothing,Shoes &amp; Jewelry</th>\n",
       "      <th>TopCategory_Electronics</th>\n",
       "      <th>TopCategory_Health, Household &amp; Baby Care</th>\n",
       "      <th>TopCategory_Home &amp; Kitchen</th>\n",
       "      <th>TopCategory_Office Supplies</th>\n",
       "      <th>TopCategory_Pet Supplies</th>\n",
       "      <th>TopCategory_Sports &amp; outdoors</th>\n",
       "      <th>TopCategory_Toys &amp; Games</th>\n",
       "    </tr>\n",
       "  </thead>\n",
       "  <tbody>\n",
       "    <tr>\n",
       "      <th>0</th>\n",
       "      <td>21</td>\n",
       "      <td>2</td>\n",
       "      <td>4</td>\n",
       "      <td>7</td>\n",
       "      <td>0.14</td>\n",
       "      <td>68.473629</td>\n",
       "      <td>3</td>\n",
       "      <td>2</td>\n",
       "      <td>0</td>\n",
       "      <td>1</td>\n",
       "      <td>0</td>\n",
       "      <td>0</td>\n",
       "      <td>0</td>\n",
       "      <td>0</td>\n",
       "      <td>0</td>\n",
       "      <td>0</td>\n",
       "      <td>0</td>\n",
       "    </tr>\n",
       "    <tr>\n",
       "      <th>1</th>\n",
       "      <td>22</td>\n",
       "      <td>0</td>\n",
       "      <td>4</td>\n",
       "      <td>5</td>\n",
       "      <td>0.50</td>\n",
       "      <td>29.258063</td>\n",
       "      <td>1</td>\n",
       "      <td>0</td>\n",
       "      <td>0</td>\n",
       "      <td>0</td>\n",
       "      <td>0</td>\n",
       "      <td>0</td>\n",
       "      <td>0</td>\n",
       "      <td>0</td>\n",
       "      <td>0</td>\n",
       "      <td>0</td>\n",
       "      <td>1</td>\n",
       "    </tr>\n",
       "    <tr>\n",
       "      <th>2</th>\n",
       "      <td>22</td>\n",
       "      <td>1</td>\n",
       "      <td>2</td>\n",
       "      <td>6</td>\n",
       "      <td>0.37</td>\n",
       "      <td>11.515517</td>\n",
       "      <td>0</td>\n",
       "      <td>0</td>\n",
       "      <td>0</td>\n",
       "      <td>0</td>\n",
       "      <td>0</td>\n",
       "      <td>1</td>\n",
       "      <td>0</td>\n",
       "      <td>0</td>\n",
       "      <td>0</td>\n",
       "      <td>0</td>\n",
       "      <td>0</td>\n",
       "    </tr>\n",
       "    <tr>\n",
       "      <th>3</th>\n",
       "      <td>19</td>\n",
       "      <td>0</td>\n",
       "      <td>2</td>\n",
       "      <td>8</td>\n",
       "      <td>0.60</td>\n",
       "      <td>74.495861</td>\n",
       "      <td>1</td>\n",
       "      <td>0</td>\n",
       "      <td>0</td>\n",
       "      <td>0</td>\n",
       "      <td>0</td>\n",
       "      <td>0</td>\n",
       "      <td>0</td>\n",
       "      <td>0</td>\n",
       "      <td>0</td>\n",
       "      <td>0</td>\n",
       "      <td>1</td>\n",
       "    </tr>\n",
       "    <tr>\n",
       "      <th>4</th>\n",
       "      <td>25</td>\n",
       "      <td>1</td>\n",
       "      <td>1</td>\n",
       "      <td>5</td>\n",
       "      <td>0.58</td>\n",
       "      <td>1.682705</td>\n",
       "      <td>2</td>\n",
       "      <td>1</td>\n",
       "      <td>0</td>\n",
       "      <td>0</td>\n",
       "      <td>0</td>\n",
       "      <td>0</td>\n",
       "      <td>0</td>\n",
       "      <td>0</td>\n",
       "      <td>0</td>\n",
       "      <td>0</td>\n",
       "      <td>1</td>\n",
       "    </tr>\n",
       "    <tr>\n",
       "      <th>...</th>\n",
       "      <td>...</td>\n",
       "      <td>...</td>\n",
       "      <td>...</td>\n",
       "      <td>...</td>\n",
       "      <td>...</td>\n",
       "      <td>...</td>\n",
       "      <td>...</td>\n",
       "      <td>...</td>\n",
       "      <td>...</td>\n",
       "      <td>...</td>\n",
       "      <td>...</td>\n",
       "      <td>...</td>\n",
       "      <td>...</td>\n",
       "      <td>...</td>\n",
       "      <td>...</td>\n",
       "      <td>...</td>\n",
       "      <td>...</td>\n",
       "    </tr>\n",
       "    <tr>\n",
       "      <th>995</th>\n",
       "      <td>27</td>\n",
       "      <td>0</td>\n",
       "      <td>6</td>\n",
       "      <td>9</td>\n",
       "      <td>0.67</td>\n",
       "      <td>86.664343</td>\n",
       "      <td>1</td>\n",
       "      <td>1</td>\n",
       "      <td>0</td>\n",
       "      <td>1</td>\n",
       "      <td>0</td>\n",
       "      <td>0</td>\n",
       "      <td>0</td>\n",
       "      <td>0</td>\n",
       "      <td>0</td>\n",
       "      <td>0</td>\n",
       "      <td>0</td>\n",
       "    </tr>\n",
       "    <tr>\n",
       "      <th>996</th>\n",
       "      <td>30</td>\n",
       "      <td>0</td>\n",
       "      <td>4</td>\n",
       "      <td>7</td>\n",
       "      <td>0.40</td>\n",
       "      <td>365.542532</td>\n",
       "      <td>2</td>\n",
       "      <td>2</td>\n",
       "      <td>0</td>\n",
       "      <td>0</td>\n",
       "      <td>0</td>\n",
       "      <td>1</td>\n",
       "      <td>0</td>\n",
       "      <td>0</td>\n",
       "      <td>0</td>\n",
       "      <td>0</td>\n",
       "      <td>0</td>\n",
       "    </tr>\n",
       "    <tr>\n",
       "      <th>997</th>\n",
       "      <td>30</td>\n",
       "      <td>0</td>\n",
       "      <td>5</td>\n",
       "      <td>5</td>\n",
       "      <td>0.46</td>\n",
       "      <td>252.582605</td>\n",
       "      <td>0</td>\n",
       "      <td>0</td>\n",
       "      <td>1</td>\n",
       "      <td>0</td>\n",
       "      <td>0</td>\n",
       "      <td>0</td>\n",
       "      <td>0</td>\n",
       "      <td>0</td>\n",
       "      <td>0</td>\n",
       "      <td>0</td>\n",
       "      <td>0</td>\n",
       "    </tr>\n",
       "    <tr>\n",
       "      <th>998</th>\n",
       "      <td>23</td>\n",
       "      <td>0</td>\n",
       "      <td>1</td>\n",
       "      <td>8</td>\n",
       "      <td>0.66</td>\n",
       "      <td>3.329596</td>\n",
       "      <td>0</td>\n",
       "      <td>0</td>\n",
       "      <td>0</td>\n",
       "      <td>0</td>\n",
       "      <td>0</td>\n",
       "      <td>0</td>\n",
       "      <td>0</td>\n",
       "      <td>0</td>\n",
       "      <td>0</td>\n",
       "      <td>0</td>\n",
       "      <td>1</td>\n",
       "    </tr>\n",
       "    <tr>\n",
       "      <th>999</th>\n",
       "      <td>23</td>\n",
       "      <td>1</td>\n",
       "      <td>3</td>\n",
       "      <td>8</td>\n",
       "      <td>0.26</td>\n",
       "      <td>6.236385</td>\n",
       "      <td>1</td>\n",
       "      <td>1</td>\n",
       "      <td>1</td>\n",
       "      <td>0</td>\n",
       "      <td>0</td>\n",
       "      <td>0</td>\n",
       "      <td>0</td>\n",
       "      <td>0</td>\n",
       "      <td>0</td>\n",
       "      <td>0</td>\n",
       "      <td>0</td>\n",
       "    </tr>\n",
       "  </tbody>\n",
       "</table>\n",
       "<p>1000 rows × 17 columns</p>\n",
       "</div>"
      ],
      "text/plain": [
       "     Age  Seniority  Orders  Items  AverageDiscount  BrowsingTime  \\\n",
       "0     21          2       4      7             0.14     68.473629   \n",
       "1     22          0       4      5             0.50     29.258063   \n",
       "2     22          1       2      6             0.37     11.515517   \n",
       "3     19          0       2      8             0.60     74.495861   \n",
       "4     25          1       1      5             0.58      1.682705   \n",
       "..   ...        ...     ...    ...              ...           ...   \n",
       "995   27          0       6      9             0.67     86.664343   \n",
       "996   30          0       4      7             0.40    365.542532   \n",
       "997   30          0       5      5             0.46    252.582605   \n",
       "998   23          0       1      8             0.66      3.329596   \n",
       "999   23          1       3      8             0.26      6.236385   \n",
       "\n",
       "     EmailsOpened  SupportInteractions  TopCategory_Beauty & Personal Care  \\\n",
       "0               3                    2                                   0   \n",
       "1               1                    0                                   0   \n",
       "2               0                    0                                   0   \n",
       "3               1                    0                                   0   \n",
       "4               2                    1                                   0   \n",
       "..            ...                  ...                                 ...   \n",
       "995             1                    1                                   0   \n",
       "996             2                    2                                   0   \n",
       "997             0                    0                                   1   \n",
       "998             0                    0                                   0   \n",
       "999             1                    1                                   1   \n",
       "\n",
       "     TopCategory_Clothing,Shoes & Jewelry  TopCategory_Electronics  \\\n",
       "0                                       1                        0   \n",
       "1                                       0                        0   \n",
       "2                                       0                        0   \n",
       "3                                       0                        0   \n",
       "4                                       0                        0   \n",
       "..                                    ...                      ...   \n",
       "995                                     1                        0   \n",
       "996                                     0                        0   \n",
       "997                                     0                        0   \n",
       "998                                     0                        0   \n",
       "999                                     0                        0   \n",
       "\n",
       "     TopCategory_Health, Household & Baby Care  TopCategory_Home & Kitchen  \\\n",
       "0                                            0                           0   \n",
       "1                                            0                           0   \n",
       "2                                            1                           0   \n",
       "3                                            0                           0   \n",
       "4                                            0                           0   \n",
       "..                                         ...                         ...   \n",
       "995                                          0                           0   \n",
       "996                                          1                           0   \n",
       "997                                          0                           0   \n",
       "998                                          0                           0   \n",
       "999                                          0                           0   \n",
       "\n",
       "     TopCategory_Office Supplies  TopCategory_Pet Supplies  \\\n",
       "0                              0                         0   \n",
       "1                              0                         0   \n",
       "2                              0                         0   \n",
       "3                              0                         0   \n",
       "4                              0                         0   \n",
       "..                           ...                       ...   \n",
       "995                            0                         0   \n",
       "996                            0                         0   \n",
       "997                            0                         0   \n",
       "998                            0                         0   \n",
       "999                            0                         0   \n",
       "\n",
       "     TopCategory_Sports & outdoors  TopCategory_Toys & Games  \n",
       "0                                0                         0  \n",
       "1                                0                         1  \n",
       "2                                0                         0  \n",
       "3                                0                         1  \n",
       "4                                0                         1  \n",
       "..                             ...                       ...  \n",
       "995                              0                         0  \n",
       "996                              0                         0  \n",
       "997                              0                         0  \n",
       "998                              0                         1  \n",
       "999                              0                         0  \n",
       "\n",
       "[1000 rows x 17 columns]"
      ]
     },
     "execution_count": 25,
     "metadata": {},
     "output_type": "execute_result"
    }
   ],
   "source": [
    "period_0_train = pd.get_dummies(period_0_train)\n",
    "period_0_train"
   ]
  },
  {
   "cell_type": "code",
   "execution_count": 26,
   "id": "cdaef835",
   "metadata": {},
   "outputs": [
    {
     "data": {
      "text/html": [
       "<div>\n",
       "<style scoped>\n",
       "    .dataframe tbody tr th:only-of-type {\n",
       "        vertical-align: middle;\n",
       "    }\n",
       "\n",
       "    .dataframe tbody tr th {\n",
       "        vertical-align: top;\n",
       "    }\n",
       "\n",
       "    .dataframe thead th {\n",
       "        text-align: right;\n",
       "    }\n",
       "</style>\n",
       "<table border=\"1\" class=\"dataframe\">\n",
       "  <thead>\n",
       "    <tr style=\"text-align: right;\">\n",
       "      <th></th>\n",
       "      <th>Age</th>\n",
       "      <th>Seniority</th>\n",
       "      <th>Orders</th>\n",
       "      <th>Items</th>\n",
       "      <th>AverageDiscount</th>\n",
       "      <th>BrowsingTime</th>\n",
       "      <th>EmailsOpened</th>\n",
       "      <th>SupportInteractions</th>\n",
       "      <th>TopCategory_Beauty &amp; Personal Care</th>\n",
       "      <th>TopCategory_Clothing,Shoes &amp; Jewelry</th>\n",
       "      <th>TopCategory_Electronics</th>\n",
       "      <th>TopCategory_Health, Household &amp; Baby Care</th>\n",
       "      <th>TopCategory_Home &amp; Kitchen</th>\n",
       "      <th>TopCategory_Office Supplies</th>\n",
       "      <th>TopCategory_Pet Supplies</th>\n",
       "      <th>TopCategory_Sports &amp; outdoors</th>\n",
       "      <th>TopCategory_Toys &amp; Games</th>\n",
       "    </tr>\n",
       "  </thead>\n",
       "  <tbody>\n",
       "    <tr>\n",
       "      <th>count</th>\n",
       "      <td>1000.00000</td>\n",
       "      <td>1000.000000</td>\n",
       "      <td>1000.000000</td>\n",
       "      <td>1000.000000</td>\n",
       "      <td>1000.000000</td>\n",
       "      <td>1000.000000</td>\n",
       "      <td>1000.000000</td>\n",
       "      <td>1000.000000</td>\n",
       "      <td>1000.000000</td>\n",
       "      <td>1000.000000</td>\n",
       "      <td>1000.000000</td>\n",
       "      <td>1000.000000</td>\n",
       "      <td>1000.000000</td>\n",
       "      <td>1000.000000</td>\n",
       "      <td>1000.000000</td>\n",
       "      <td>1000.000000</td>\n",
       "      <td>1000.000000</td>\n",
       "    </tr>\n",
       "    <tr>\n",
       "      <th>mean</th>\n",
       "      <td>24.06900</td>\n",
       "      <td>0.508000</td>\n",
       "      <td>3.011000</td>\n",
       "      <td>5.975000</td>\n",
       "      <td>0.371700</td>\n",
       "      <td>97.949068</td>\n",
       "      <td>0.989000</td>\n",
       "      <td>1.012000</td>\n",
       "      <td>0.259000</td>\n",
       "      <td>0.227000</td>\n",
       "      <td>0.049000</td>\n",
       "      <td>0.099000</td>\n",
       "      <td>0.167000</td>\n",
       "      <td>0.003000</td>\n",
       "      <td>0.009000</td>\n",
       "      <td>0.016000</td>\n",
       "      <td>0.171000</td>\n",
       "    </tr>\n",
       "    <tr>\n",
       "      <th>std</th>\n",
       "      <td>5.05943</td>\n",
       "      <td>0.720038</td>\n",
       "      <td>1.731438</td>\n",
       "      <td>2.399194</td>\n",
       "      <td>0.219133</td>\n",
       "      <td>100.222845</td>\n",
       "      <td>1.002938</td>\n",
       "      <td>1.022204</td>\n",
       "      <td>0.438305</td>\n",
       "      <td>0.419102</td>\n",
       "      <td>0.215976</td>\n",
       "      <td>0.298811</td>\n",
       "      <td>0.373162</td>\n",
       "      <td>0.054717</td>\n",
       "      <td>0.094488</td>\n",
       "      <td>0.125538</td>\n",
       "      <td>0.376697</td>\n",
       "    </tr>\n",
       "    <tr>\n",
       "      <th>min</th>\n",
       "      <td>7.00000</td>\n",
       "      <td>0.000000</td>\n",
       "      <td>0.000000</td>\n",
       "      <td>1.000000</td>\n",
       "      <td>0.000000</td>\n",
       "      <td>0.012724</td>\n",
       "      <td>0.000000</td>\n",
       "      <td>0.000000</td>\n",
       "      <td>0.000000</td>\n",
       "      <td>0.000000</td>\n",
       "      <td>0.000000</td>\n",
       "      <td>0.000000</td>\n",
       "      <td>0.000000</td>\n",
       "      <td>0.000000</td>\n",
       "      <td>0.000000</td>\n",
       "      <td>0.000000</td>\n",
       "      <td>0.000000</td>\n",
       "    </tr>\n",
       "    <tr>\n",
       "      <th>25%</th>\n",
       "      <td>21.00000</td>\n",
       "      <td>0.000000</td>\n",
       "      <td>2.000000</td>\n",
       "      <td>4.000000</td>\n",
       "      <td>0.180000</td>\n",
       "      <td>29.333357</td>\n",
       "      <td>0.000000</td>\n",
       "      <td>0.000000</td>\n",
       "      <td>0.000000</td>\n",
       "      <td>0.000000</td>\n",
       "      <td>0.000000</td>\n",
       "      <td>0.000000</td>\n",
       "      <td>0.000000</td>\n",
       "      <td>0.000000</td>\n",
       "      <td>0.000000</td>\n",
       "      <td>0.000000</td>\n",
       "      <td>0.000000</td>\n",
       "    </tr>\n",
       "    <tr>\n",
       "      <th>50%</th>\n",
       "      <td>24.00000</td>\n",
       "      <td>0.000000</td>\n",
       "      <td>3.000000</td>\n",
       "      <td>6.000000</td>\n",
       "      <td>0.380000</td>\n",
       "      <td>68.037177</td>\n",
       "      <td>1.000000</td>\n",
       "      <td>1.000000</td>\n",
       "      <td>0.000000</td>\n",
       "      <td>0.000000</td>\n",
       "      <td>0.000000</td>\n",
       "      <td>0.000000</td>\n",
       "      <td>0.000000</td>\n",
       "      <td>0.000000</td>\n",
       "      <td>0.000000</td>\n",
       "      <td>0.000000</td>\n",
       "      <td>0.000000</td>\n",
       "    </tr>\n",
       "    <tr>\n",
       "      <th>75%</th>\n",
       "      <td>27.00000</td>\n",
       "      <td>1.000000</td>\n",
       "      <td>4.000000</td>\n",
       "      <td>7.000000</td>\n",
       "      <td>0.560000</td>\n",
       "      <td>127.063901</td>\n",
       "      <td>2.000000</td>\n",
       "      <td>2.000000</td>\n",
       "      <td>1.000000</td>\n",
       "      <td>0.000000</td>\n",
       "      <td>0.000000</td>\n",
       "      <td>0.000000</td>\n",
       "      <td>0.000000</td>\n",
       "      <td>0.000000</td>\n",
       "      <td>0.000000</td>\n",
       "      <td>0.000000</td>\n",
       "      <td>0.000000</td>\n",
       "    </tr>\n",
       "    <tr>\n",
       "      <th>max</th>\n",
       "      <td>41.00000</td>\n",
       "      <td>4.000000</td>\n",
       "      <td>9.000000</td>\n",
       "      <td>15.000000</td>\n",
       "      <td>0.750000</td>\n",
       "      <td>831.026761</td>\n",
       "      <td>5.000000</td>\n",
       "      <td>7.000000</td>\n",
       "      <td>1.000000</td>\n",
       "      <td>1.000000</td>\n",
       "      <td>1.000000</td>\n",
       "      <td>1.000000</td>\n",
       "      <td>1.000000</td>\n",
       "      <td>1.000000</td>\n",
       "      <td>1.000000</td>\n",
       "      <td>1.000000</td>\n",
       "      <td>1.000000</td>\n",
       "    </tr>\n",
       "  </tbody>\n",
       "</table>\n",
       "</div>"
      ],
      "text/plain": [
       "              Age    Seniority       Orders        Items  AverageDiscount  \\\n",
       "count  1000.00000  1000.000000  1000.000000  1000.000000      1000.000000   \n",
       "mean     24.06900     0.508000     3.011000     5.975000         0.371700   \n",
       "std       5.05943     0.720038     1.731438     2.399194         0.219133   \n",
       "min       7.00000     0.000000     0.000000     1.000000         0.000000   \n",
       "25%      21.00000     0.000000     2.000000     4.000000         0.180000   \n",
       "50%      24.00000     0.000000     3.000000     6.000000         0.380000   \n",
       "75%      27.00000     1.000000     4.000000     7.000000         0.560000   \n",
       "max      41.00000     4.000000     9.000000    15.000000         0.750000   \n",
       "\n",
       "       BrowsingTime  EmailsOpened  SupportInteractions  \\\n",
       "count   1000.000000   1000.000000          1000.000000   \n",
       "mean      97.949068      0.989000             1.012000   \n",
       "std      100.222845      1.002938             1.022204   \n",
       "min        0.012724      0.000000             0.000000   \n",
       "25%       29.333357      0.000000             0.000000   \n",
       "50%       68.037177      1.000000             1.000000   \n",
       "75%      127.063901      2.000000             2.000000   \n",
       "max      831.026761      5.000000             7.000000   \n",
       "\n",
       "       TopCategory_Beauty & Personal Care  \\\n",
       "count                         1000.000000   \n",
       "mean                             0.259000   \n",
       "std                              0.438305   \n",
       "min                              0.000000   \n",
       "25%                              0.000000   \n",
       "50%                              0.000000   \n",
       "75%                              1.000000   \n",
       "max                              1.000000   \n",
       "\n",
       "       TopCategory_Clothing,Shoes & Jewelry  TopCategory_Electronics  \\\n",
       "count                           1000.000000              1000.000000   \n",
       "mean                               0.227000                 0.049000   \n",
       "std                                0.419102                 0.215976   \n",
       "min                                0.000000                 0.000000   \n",
       "25%                                0.000000                 0.000000   \n",
       "50%                                0.000000                 0.000000   \n",
       "75%                                0.000000                 0.000000   \n",
       "max                                1.000000                 1.000000   \n",
       "\n",
       "       TopCategory_Health, Household & Baby Care  TopCategory_Home & Kitchen  \\\n",
       "count                                1000.000000                 1000.000000   \n",
       "mean                                    0.099000                    0.167000   \n",
       "std                                     0.298811                    0.373162   \n",
       "min                                     0.000000                    0.000000   \n",
       "25%                                     0.000000                    0.000000   \n",
       "50%                                     0.000000                    0.000000   \n",
       "75%                                     0.000000                    0.000000   \n",
       "max                                     1.000000                    1.000000   \n",
       "\n",
       "       TopCategory_Office Supplies  TopCategory_Pet Supplies  \\\n",
       "count                  1000.000000               1000.000000   \n",
       "mean                      0.003000                  0.009000   \n",
       "std                       0.054717                  0.094488   \n",
       "min                       0.000000                  0.000000   \n",
       "25%                       0.000000                  0.000000   \n",
       "50%                       0.000000                  0.000000   \n",
       "75%                       0.000000                  0.000000   \n",
       "max                       1.000000                  1.000000   \n",
       "\n",
       "       TopCategory_Sports & outdoors  TopCategory_Toys & Games  \n",
       "count                    1000.000000               1000.000000  \n",
       "mean                        0.016000                  0.171000  \n",
       "std                         0.125538                  0.376697  \n",
       "min                         0.000000                  0.000000  \n",
       "25%                         0.000000                  0.000000  \n",
       "50%                         0.000000                  0.000000  \n",
       "75%                         0.000000                  0.000000  \n",
       "max                         1.000000                  1.000000  "
      ]
     },
     "execution_count": 26,
     "metadata": {},
     "output_type": "execute_result"
    }
   ],
   "source": [
    "period_0_train.describe()"
   ]
  },
  {
   "cell_type": "code",
   "execution_count": 27,
   "id": "310e38a3",
   "metadata": {},
   "outputs": [],
   "source": [
    "period_0_train = preprocessing.StandardScaler().fit_transform(period_0_train)"
   ]
  },
  {
   "cell_type": "code",
   "execution_count": 28,
   "id": "c9dd7e2c",
   "metadata": {},
   "outputs": [],
   "source": [
    "period_1_test = pd.get_dummies(period_1_test)\n",
    "period_1_test = preprocessing.StandardScaler().fit_transform(period_1_test)"
   ]
  },
  {
   "cell_type": "code",
   "execution_count": 29,
   "id": "57e8372f",
   "metadata": {},
   "outputs": [],
   "source": [
    "period_2_test = pd.get_dummies(period_2_test)\n",
    "period_2_test = preprocessing.StandardScaler().fit_transform(period_2_test)"
   ]
  },
  {
   "cell_type": "code",
   "execution_count": 30,
   "id": "e00afba3",
   "metadata": {},
   "outputs": [],
   "source": [
    "period_3_test = pd.get_dummies(period_3_test)\n",
    "period_3_test = preprocessing.StandardScaler().fit_transform(period_3_test)"
   ]
  },
  {
   "cell_type": "code",
   "execution_count": 31,
   "id": "2fdff4e2",
   "metadata": {},
   "outputs": [
    {
     "data": {
      "text/plain": [
       "LinearRegression()"
      ]
     },
     "execution_count": 31,
     "metadata": {},
     "output_type": "execute_result"
    }
   ],
   "source": [
    "reg_lin_alg = LinearRegression()\n",
    "reg_lin_alg_mod = reg_lin_alg.fit(period_0_train, y_train)\n",
    "reg_lin_alg_mod"
   ]
  },
  {
   "cell_type": "code",
   "execution_count": 32,
   "id": "936b4166",
   "metadata": {},
   "outputs": [
    {
     "name": "stdout",
     "output_type": "stream",
     "text": [
      "(1000,)\n"
     ]
    }
   ],
   "source": [
    "period_1_test_pred = reg_lin_alg_mod.predict(period_1_test)\n",
    "print(period_1_test_pred.shape)"
   ]
  },
  {
   "cell_type": "code",
   "execution_count": 33,
   "id": "ce939a85",
   "metadata": {},
   "outputs": [
    {
     "name": "stdout",
     "output_type": "stream",
     "text": [
      "(1000,)\n"
     ]
    }
   ],
   "source": [
    "print(y_test_1.shape)"
   ]
  },
  {
   "cell_type": "code",
   "execution_count": 34,
   "id": "ca609436",
   "metadata": {},
   "outputs": [],
   "source": [
    "period_2_test_pred = reg_lin_alg_mod.predict(period_2_test)\n",
    "period_3_test_pred = reg_lin_alg_mod.predict(period_3_test)"
   ]
  },
  {
   "cell_type": "code",
   "execution_count": 35,
   "id": "ef68f7de",
   "metadata": {},
   "outputs": [
    {
     "name": "stdout",
     "output_type": "stream",
     "text": [
      "Taux de prédictions correctes sur le semestre 2 pour la régression linéaire :  76.56\n"
     ]
    }
   ],
   "source": [
    "reg_lin_alg_score_1 = reg_lin_alg_mod.score(period_1_test, y_test_1)\n",
    "taux_reg_lin_alg_score_1 = round(reg_lin_alg_score_1*100,2)\n",
    "print(\"Taux de prédictions correctes sur le semestre 2 pour la régression linéaire : \", taux_reg_lin_alg_score_1)"
   ]
  },
  {
   "cell_type": "code",
   "execution_count": 36,
   "id": "8ede4499",
   "metadata": {},
   "outputs": [
    {
     "name": "stdout",
     "output_type": "stream",
     "text": [
      "Taux de prédictions correctes sur le semestre 3 pour la régression linéaire :  71.88\n"
     ]
    }
   ],
   "source": [
    "reg_lin_alg_score_2 = reg_lin_alg_mod.score(period_2_test, y_test_2)\n",
    "taux_reg_lin_alg_score_2 = round(reg_lin_alg_score_2*100,2)\n",
    "print(\"Taux de prédictions correctes sur le semestre 3 pour la régression linéaire : \", taux_reg_lin_alg_score_2)"
   ]
  },
  {
   "cell_type": "code",
   "execution_count": 37,
   "id": "3a52cb6c",
   "metadata": {},
   "outputs": [
    {
     "name": "stdout",
     "output_type": "stream",
     "text": [
      "Taux de prédictions correctes sur le semestre 4 pour la régression linéaire :  58.12\n"
     ]
    }
   ],
   "source": [
    "reg_lin_alg_score_3 = reg_lin_alg_mod.score(period_3_test, y_test_3)\n",
    "taux_reg_lin_alg_score_3 = round(reg_lin_alg_score_3*100,2)\n",
    "print(\"Taux de prédictions correctes sur le semestre 4 pour la régression linéaire : \", taux_reg_lin_alg_score_3)"
   ]
  },
  {
   "cell_type": "code",
   "execution_count": 38,
   "id": "d8869cb8",
   "metadata": {},
   "outputs": [
    {
     "data": {
      "image/png": "[encoded data removed]",
      "text/plain": [
       "<Figure size 432x288 with 1 Axes>"
      ]
     },
     "metadata": {
      "needs_background": "light"
     },
     "output_type": "display_data"
    }
   ],
   "source": [
    "plt.plot([2, 3, 4], [taux_reg_lin_alg_score_1, taux_reg_lin_alg_score_2, taux_reg_lin_alg_score_3])\n",
    "plt.gca().set_xlim([1.8,4.2])\n",
    "plt.gca().set_ylim([50,80])\n",
    "plt.xlabel('Semestre')\n",
    "plt.ylabel(\"Taux de prédictions\")\n",
    "plt.title(\"Taux de prédictions pour la régression linéaire selon les différents semestres de 2022\")\n",
    "plt.show()"
   ]
  },
  {
   "cell_type": "code",
   "execution_count": 39,
   "id": "e9effd70",
   "metadata": {},
   "outputs": [
    {
     "data": {
      "text/plain": [
       "(1000, 17)"
      ]
     },
     "execution_count": 39,
     "metadata": {},
     "output_type": "execute_result"
    }
   ],
   "source": [
    "period_0_train.shape"
   ]
  },
  {
   "cell_type": "code",
   "execution_count": 40,
   "id": "962445db",
   "metadata": {},
   "outputs": [],
   "source": [
    "model = keras.models.Sequential()\n",
    "model.add(keras.layers.Input(shape = period_0_train.shape[1]))\n",
    "model.add(keras.layers.Dropout(0.3))\n",
    "model.add(keras.layers.Dense(60, activation = \"relu\"))\n",
    "model.add(keras.layers.Dense(30, activation = \"relu\"))\n",
    "model.add(keras.layers.Dense(10, activation = \"relu\"))\n",
    "model.add(keras.layers.Dense(1))"
   ]
  },
  {
   "cell_type": "code",
   "execution_count": 41,
   "id": "957ed593",
   "metadata": {},
   "outputs": [],
   "source": [
    "model.compile(loss = \"mse\", optimizer = \"rmsprop\", metrics = [\"mae\"])"
   ]
  },
  {
   "cell_type": "code",
   "execution_count": 42,
   "id": "1a11079e",
   "metadata": {
    "scrolled": true
   },
   "outputs": [
    {
     "name": "stdout",
     "output_type": "stream",
     "text": [
      "Train on 700 samples, validate on 300 samples\n",
      "Epoch 1/70\n",
      "700/700 [==============================] - 1s 1ms/sample - loss: 1542.6041 - mae: 35.1359 - val_loss: 1409.8810 - val_mae: 33.6374\n",
      "Epoch 2/70\n",
      "700/700 [==============================] - 0s 160us/sample - loss: 1352.6048 - mae: 32.6249 - val_loss: 1200.7461 - val_mae: 30.7332\n",
      "Epoch 3/70\n",
      "700/700 [==============================] - 0s 146us/sample - loss: 1067.8474 - mae: 28.4851 - val_loss: 907.0133 - val_mae: 26.1101\n",
      "Epoch 4/70\n",
      "700/700 [==============================] - 0s 125us/sample - loss: 737.3338 - mae: 22.6424 - val_loss: 580.4832 - val_mae: 19.8815\n",
      "Epoch 5/70\n",
      "700/700 [==============================] - 0s 135us/sample - loss: 444.6624 - mae: 16.5784 - val_loss: 346.0941 - val_mae: 14.3348\n",
      "Epoch 6/70\n",
      "700/700 [==============================] - 0s 251us/sample - loss: 315.9005 - mae: 12.8182 - val_loss: 235.2267 - val_mae: 11.1922\n",
      "Epoch 7/70\n",
      "700/700 [==============================] - 0s 283us/sample - loss: 274.2883 - mae: 11.6618 - val_loss: 188.6239 - val_mae: 9.7650\n",
      "Epoch 8/70\n",
      "700/700 [==============================] - 0s 259us/sample - loss: 262.2424 - mae: 11.1066 - val_loss: 167.4940 - val_mae: 9.2084\n",
      "Epoch 9/70\n",
      "700/700 [==============================] - 0s 296us/sample - loss: 225.9865 - mae: 10.3614 - val_loss: 154.4152 - val_mae: 8.8416\n",
      "Epoch 10/70\n",
      "700/700 [==============================] - 0s 129us/sample - loss: 196.5096 - mae: 9.5200 - val_loss: 138.8743 - val_mae: 8.3931\n",
      "Epoch 11/70\n",
      "700/700 [==============================] - 0s 125us/sample - loss: 200.3624 - mae: 9.3784 - val_loss: 134.6549 - val_mae: 8.2768\n",
      "Epoch 12/70\n",
      "700/700 [==============================] - 0s 123us/sample - loss: 191.0693 - mae: 9.1209 - val_loss: 136.2774 - val_mae: 8.4877\n",
      "Epoch 13/70\n",
      "700/700 [==============================] - 0s 287us/sample - loss: 203.5497 - mae: 9.1854 - val_loss: 126.2271 - val_mae: 8.0354\n",
      "Epoch 14/70\n",
      "700/700 [==============================] - 0s 286us/sample - loss: 186.0552 - mae: 8.8008 - val_loss: 129.5193 - val_mae: 8.3023\n",
      "Epoch 15/70\n",
      "700/700 [==============================] - 0s 270us/sample - loss: 180.3397 - mae: 8.6878 - val_loss: 117.0350 - val_mae: 7.6370\n",
      "Epoch 16/70\n",
      "700/700 [==============================] - 0s 260us/sample - loss: 160.9114 - mae: 8.5757 - val_loss: 114.8776 - val_mae: 7.6463\n",
      "Epoch 17/70\n",
      "700/700 [==============================] - 0s 135us/sample - loss: 152.9516 - mae: 8.1152 - val_loss: 118.8751 - val_mae: 7.9805\n",
      "Epoch 18/70\n",
      "700/700 [==============================] - 0s 131us/sample - loss: 141.7512 - mae: 7.9230 - val_loss: 110.6475 - val_mae: 7.5056\n",
      "Epoch 19/70\n",
      "700/700 [==============================] - 0s 125us/sample - loss: 149.2721 - mae: 7.7034 - val_loss: 112.4531 - val_mae: 7.6797\n",
      "Epoch 20/70\n",
      "700/700 [==============================] - 0s 203us/sample - loss: 162.1008 - mae: 8.1341 - val_loss: 106.0761 - val_mae: 7.3203\n",
      "Epoch 21/70\n",
      "700/700 [==============================] - 0s 237us/sample - loss: 153.8154 - mae: 8.0456 - val_loss: 117.4190 - val_mae: 7.9693\n",
      "Epoch 22/70\n",
      "700/700 [==============================] - 0s 270us/sample - loss: 160.9044 - mae: 7.9368 - val_loss: 100.7682 - val_mae: 6.9549\n",
      "Epoch 23/70\n",
      "700/700 [==============================] - 0s 264us/sample - loss: 183.0278 - mae: 8.4890 - val_loss: 98.5288 - val_mae: 6.7412\n",
      "Epoch 24/70\n",
      "700/700 [==============================] - 0s 210us/sample - loss: 156.9948 - mae: 8.0517 - val_loss: 96.3265 - val_mae: 6.7303\n",
      "Epoch 25/70\n",
      "700/700 [==============================] - 0s 150us/sample - loss: 168.4158 - mae: 8.1835 - val_loss: 111.9396 - val_mae: 7.7684\n",
      "Epoch 26/70\n",
      "700/700 [==============================] - 0s 148us/sample - loss: 189.4077 - mae: 8.6101 - val_loss: 89.5724 - val_mae: 6.2796\n",
      "Epoch 27/70\n",
      "700/700 [==============================] - 0s 131us/sample - loss: 137.9756 - mae: 7.8976 - val_loss: 90.4595 - val_mae: 6.4303\n",
      "Epoch 28/70\n",
      "700/700 [==============================] - 0s 255us/sample - loss: 161.6857 - mae: 7.9914 - val_loss: 93.4063 - val_mae: 6.5851\n",
      "Epoch 29/70\n",
      "700/700 [==============================] - 0s 254us/sample - loss: 167.2232 - mae: 8.1272 - val_loss: 96.0751 - val_mae: 6.7314\n",
      "Epoch 30/70\n",
      "700/700 [==============================] - 0s 263us/sample - loss: 151.5996 - mae: 7.5167 - val_loss: 88.1639 - val_mae: 6.1359\n",
      "Epoch 31/70\n",
      "700/700 [==============================] - 0s 157us/sample - loss: 154.8381 - mae: 7.7092 - val_loss: 88.4114 - val_mae: 6.3051\n",
      "Epoch 32/70\n",
      "700/700 [==============================] - 0s 138us/sample - loss: 166.6701 - mae: 8.2836 - val_loss: 85.7892 - val_mae: 6.0824\n",
      "Epoch 33/70\n",
      "700/700 [==============================] - 0s 136us/sample - loss: 159.2382 - mae: 7.7901 - val_loss: 87.3450 - val_mae: 6.2483\n",
      "Epoch 34/70\n",
      "700/700 [==============================] - 0s 127us/sample - loss: 179.9273 - mae: 8.0390 - val_loss: 98.8469 - val_mae: 6.8607\n",
      "Epoch 35/70\n",
      "700/700 [==============================] - 0s 140us/sample - loss: 145.3983 - mae: 7.6547 - val_loss: 84.7898 - val_mae: 5.9640\n",
      "Epoch 36/70\n",
      "700/700 [==============================] - 0s 243us/sample - loss: 148.6714 - mae: 7.6434 - val_loss: 98.2734 - val_mae: 6.8247\n",
      "Epoch 37/70\n",
      "700/700 [==============================] - 0s 233us/sample - loss: 159.2304 - mae: 7.7531 - val_loss: 94.0954 - val_mae: 6.4699\n",
      "Epoch 38/70\n",
      "700/700 [==============================] - 0s 250us/sample - loss: 161.1339 - mae: 7.7154 - val_loss: 94.8141 - val_mae: 6.5908\n",
      "Epoch 39/70\n",
      "700/700 [==============================] - 0s 246us/sample - loss: 166.3717 - mae: 7.9658 - val_loss: 100.6538 - val_mae: 6.9301\n",
      "Epoch 40/70\n",
      "700/700 [==============================] - 0s 190us/sample - loss: 144.5194 - mae: 7.7439 - val_loss: 89.2146 - val_mae: 6.1942\n",
      "Epoch 41/70\n",
      "700/700 [==============================] - 0s 141us/sample - loss: 143.8135 - mae: 7.7578 - val_loss: 92.6256 - val_mae: 6.5599\n",
      "Epoch 42/70\n",
      "700/700 [==============================] - 0s 148us/sample - loss: 156.1136 - mae: 7.7199 - val_loss: 86.4865 - val_mae: 6.1562\n",
      "Epoch 43/70\n",
      "700/700 [==============================] - 0s 218us/sample - loss: 160.6773 - mae: 7.4549 - val_loss: 90.5624 - val_mae: 6.4306\n",
      "Epoch 44/70\n",
      "700/700 [==============================] - 0s 261us/sample - loss: 169.9484 - mae: 7.8950 - val_loss: 86.5643 - val_mae: 6.1023\n",
      "Epoch 45/70\n",
      "700/700 [==============================] - 0s 252us/sample - loss: 125.2272 - mae: 7.2712 - val_loss: 88.8225 - val_mae: 6.4699\n",
      "Epoch 46/70\n",
      "700/700 [==============================] - 0s 279us/sample - loss: 146.8161 - mae: 7.4027 - val_loss: 84.7913 - val_mae: 6.0326\n",
      "Epoch 47/70\n",
      "700/700 [==============================] - 0s 178us/sample - loss: 156.0928 - mae: 7.7121 - val_loss: 96.4789 - val_mae: 6.8533\n",
      "Epoch 48/70\n",
      "700/700 [==============================] - 0s 128us/sample - loss: 156.5910 - mae: 7.8347 - val_loss: 86.7301 - val_mae: 6.2213\n",
      "Epoch 49/70\n",
      "700/700 [==============================] - 0s 136us/sample - loss: 129.0681 - mae: 7.4910 - val_loss: 82.3613 - val_mae: 5.9575\n",
      "Epoch 50/70\n",
      "700/700 [==============================] - 0s 146us/sample - loss: 146.1524 - mae: 7.7188 - val_loss: 85.8561 - val_mae: 6.1217\n",
      "Epoch 51/70\n",
      "700/700 [==============================] - 0s 249us/sample - loss: 136.0505 - mae: 7.4231 - val_loss: 85.5272 - val_mae: 6.1310\n",
      "Epoch 52/70\n",
      "700/700 [==============================] - 0s 221us/sample - loss: 151.3909 - mae: 7.5333 - val_loss: 85.1794 - val_mae: 6.1153\n",
      "Epoch 53/70\n",
      "700/700 [==============================] - 0s 245us/sample - loss: 144.3134 - mae: 7.2701 - val_loss: 85.9589 - val_mae: 6.1379\n",
      "Epoch 54/70\n",
      "700/700 [==============================] - 0s 233us/sample - loss: 141.4636 - mae: 7.3575 - val_loss: 87.7494 - val_mae: 6.2797\n",
      "Epoch 55/70\n",
      "700/700 [==============================] - 0s 189us/sample - loss: 142.1294 - mae: 7.4281 - val_loss: 83.7296 - val_mae: 5.9899\n",
      "Epoch 56/70\n",
      "700/700 [==============================] - 0s 135us/sample - loss: 142.5839 - mae: 7.2167 - val_loss: 88.9041 - val_mae: 6.3942\n",
      "Epoch 57/70\n",
      "700/700 [==============================] - 0s 134us/sample - loss: 138.8453 - mae: 7.2042 - val_loss: 83.9708 - val_mae: 6.0251\n",
      "Epoch 58/70\n",
      "700/700 [==============================] - 0s 142us/sample - loss: 143.8928 - mae: 7.4476 - val_loss: 72.7208 - val_mae: 5.2748\n"
     ]
    },
    {
     "name": "stdout",
     "output_type": "stream",
     "text": [
      "Epoch 59/70\n",
      "700/700 [==============================] - 0s 251us/sample - loss: 134.8029 - mae: 6.9401 - val_loss: 82.5518 - val_mae: 6.0022\n",
      "Epoch 60/70\n",
      "700/700 [==============================] - 0s 241us/sample - loss: 169.1181 - mae: 7.6378 - val_loss: 84.6216 - val_mae: 5.9809\n",
      "Epoch 61/70\n",
      "700/700 [==============================] - 0s 223us/sample - loss: 153.5201 - mae: 7.6341 - val_loss: 90.2774 - val_mae: 6.4260\n",
      "Epoch 62/70\n",
      "700/700 [==============================] - 0s 233us/sample - loss: 153.2625 - mae: 7.6981 - val_loss: 90.6570 - val_mae: 6.5468\n",
      "Epoch 63/70\n",
      "700/700 [==============================] - 0s 174us/sample - loss: 117.7530 - mae: 7.0959 - val_loss: 72.5033 - val_mae: 5.4192\n",
      "Epoch 64/70\n",
      "700/700 [==============================] - 0s 128us/sample - loss: 160.8108 - mae: 7.7064 - val_loss: 84.5139 - val_mae: 6.1456\n",
      "Epoch 65/70\n",
      "700/700 [==============================] - 0s 122us/sample - loss: 158.5836 - mae: 7.7619 - val_loss: 80.1012 - val_mae: 5.7681\n",
      "Epoch 66/70\n",
      "700/700 [==============================] - 0s 157us/sample - loss: 137.6559 - mae: 7.0888 - val_loss: 79.0220 - val_mae: 5.7356\n",
      "Epoch 67/70\n",
      "700/700 [==============================] - 0s 252us/sample - loss: 118.5939 - mae: 6.9131 - val_loss: 70.9206 - val_mae: 5.3392\n",
      "Epoch 68/70\n",
      "700/700 [==============================] - 0s 275us/sample - loss: 148.8931 - mae: 7.2403 - val_loss: 82.0674 - val_mae: 5.9931\n",
      "Epoch 69/70\n",
      "700/700 [==============================] - 0s 264us/sample - loss: 151.5345 - mae: 7.4070 - val_loss: 82.2609 - val_mae: 6.0061\n",
      "Epoch 70/70\n",
      "700/700 [==============================] - 0s 264us/sample - loss: 138.7886 - mae: 7.2187 - val_loss: 71.3094 - val_mae: 5.3022\n"
     ]
    }
   ],
   "source": [
    "results1 = model.fit(period_0_train, y_train, epochs = 70, validation_split = 0.3)"
   ]
  },
  {
   "cell_type": "code",
   "execution_count": 43,
   "id": "2465496e",
   "metadata": {},
   "outputs": [
    {
     "name": "stderr",
     "output_type": "stream",
     "text": [
      "C:\\Users\\doria\\anaconda3\\envs\\TensorFlow\\lib\\site-packages\\pandas\\core\\frame.py:4308: SettingWithCopyWarning: \n",
      "A value is trying to be set on a copy of a slice from a DataFrame\n",
      "\n",
      "See the caveats in the documentation: https://pandas.pydata.org/pandas-docs/stable/user_guide/indexing.html#returning-a-view-versus-a-copy\n",
      "  errors=errors,\n"
     ]
    },
    {
     "data": {
      "image/png": "[encoded data removed]",
      "text/plain": [
       "<Figure size 864x576 with 1 Axes>"
      ]
     },
     "metadata": {
      "needs_background": "light"
     },
     "output_type": "display_data"
    },
    {
     "data": {
      "image/png": "[encoded data removed]",
      "text/plain": [
       "<Figure size 864x576 with 1 Axes>"
      ]
     },
     "metadata": {
      "needs_background": "light"
     },
     "output_type": "display_data"
    }
   ],
   "source": [
    "df_loss_mae = pd.DataFrame(results1.history)\n",
    "df_loss= df_loss_mae[['loss','val_loss']]\n",
    "df_loss.rename(columns={'loss':'train','val_loss':'validation'},inplace=True)\n",
    "df_mae= df_loss_mae[['mae','val_mae']]\n",
    "df_mae.rename(columns={'mae':'train','val_mae':'validation'},inplace=True)\n",
    "df_loss.plot(title='Model loss',figsize=(12,8)).set(xlabel='Epoch',ylabel='Loss')\n",
    "plt.show()\n",
    "df_mae.plot(title='Model mae',figsize=(12,8)).set(xlabel='Epoch',ylabel='Mae')\n",
    "plt.show()"
   ]
  },
  {
   "cell_type": "code",
   "execution_count": 44,
   "id": "2838957b",
   "metadata": {},
   "outputs": [
    {
     "name": "stdout",
     "output_type": "stream",
     "text": [
      "1000/1000 [==============================] - 0s 57us/sample - loss: 109.7308 - mae: 8.0241\n",
      "[109.73075695800782, 8.024084]\n"
     ]
    }
   ],
   "source": [
    "score_period_1 = model.evaluate(period_1_test, y_test_1)\n",
    "print(score_period_1)"
   ]
  },
  {
   "cell_type": "code",
   "execution_count": 45,
   "id": "68a3009a",
   "metadata": {},
   "outputs": [
    {
     "name": "stdout",
     "output_type": "stream",
     "text": [
      "1000/1000 [==============================] - 0s 67us/sample - loss: 133.6669 - mae: 8.9974\n",
      "[133.666873046875, 8.997439]\n"
     ]
    }
   ],
   "source": [
    "score_period_2 = model.evaluate(period_2_test, y_test_2)\n",
    "print(score_period_2)"
   ]
  },
  {
   "cell_type": "code",
   "execution_count": 46,
   "id": "1c53e4e8",
   "metadata": {},
   "outputs": [
    {
     "name": "stdout",
     "output_type": "stream",
     "text": [
      "1000/1000 [==============================] - 0s 65us/sample - loss: 262.3921 - mae: 13.0124\n",
      "[262.3920573730469, 13.012435]\n"
     ]
    }
   ],
   "source": [
    "score_period_3 = model.evaluate(period_3_test, y_test_3)\n",
    "print(score_period_3)"
   ]
  },
  {
   "cell_type": "code",
   "execution_count": 47,
   "id": "abeda1c4",
   "metadata": {},
   "outputs": [
    {
     "data": {
      "image/png": "[encoded data removed]",
      "text/plain": [
       "<Figure size 864x576 with 1 Axes>"
      ]
     },
     "metadata": {
      "needs_background": "light"
     },
     "output_type": "display_data"
    }
   ],
   "source": [
    "plt.figure(figsize=(12,8))\n",
    "plt.plot([2, 3, 4], [score_period_1[0], score_period_2[0], score_period_3[0]])\n",
    "plt.gca().set_xlim([1.8,4.2])\n",
    "plt.xlabel('Semestres')\n",
    "plt.ylabel(\"Mae\")\n",
    "plt.title(\"Mae selon les différents semestres de 2022\")\n",
    "plt.show()"
   ]
  },
  {
   "cell_type": "code",
   "execution_count": 48,
   "id": "01938c1a",
   "metadata": {},
   "outputs": [],
   "source": [
    "import numpy as np \n",
    "\n",
    "P = np.array([0.2, 0.3, 0.5])\n",
    "Q = np.array([0.2, 0.4, 0.4])\n",
    "\n",
    "def KLDivergence(P, Q):\n",
    "    \n",
    "    d_kl = np.dot(P, np.log(np.divide(P,Q)))\n",
    "    \n",
    "    return d_kl\n",
    "\n",
    "def JSDivergence(P, Q):\n",
    "    \n",
    "    d_js = 1/2 * KLDivergence(P, 1/2*(P+Q)) + 1/2 * KLDivergence(Q, 1/2*(P+Q))\n",
    "    \n",
    "    return d_js"
   ]
  },
  {
   "cell_type": "code",
   "execution_count": 72,
   "id": "f3066049",
   "metadata": {},
   "outputs": [
    {
     "name": "stdout",
     "output_type": "stream",
     "text": [
      "K-L Divergence: 0.02526715392157057\n",
      "J-S Divergence: 0.006367198333995731\n"
     ]
    }
   ],
   "source": [
    "print(\"K-L Divergence:\", KLDivergence(P, Q))\n",
    "print(\"J-S Divergence:\", JSDivergence(P, Q))"
   ]
  },
  {
   "cell_type": "code",
   "execution_count": 49,
   "id": "120a8b63",
   "metadata": {},
   "outputs": [],
   "source": [
    "def WassersteinDistance(X, Y, p):\n",
    "    \n",
    "    d_w = np.power(np.divide(1, Y.shape[0]) * np.linalg.norm(X-Y, p), 1/p)\n",
    "    \n",
    "    return d_w"
   ]
  },
  {
   "cell_type": "code",
   "execution_count": 50,
   "id": "89fda163",
   "metadata": {},
   "outputs": [
    {
     "data": {
      "text/plain": [
       "0.1528412096458498"
      ]
     },
     "execution_count": 50,
     "metadata": {},
     "output_type": "execute_result"
    }
   ],
   "source": [
    "X = np.random.beta(2, 6, 100)\n",
    "\n",
    "Y = np.random.beta(3, 6, 100)\n",
    "\n",
    "WassersteinDistance(X, Y, 2)"
   ]
  },
  {
   "cell_type": "code",
   "execution_count": 110,
   "id": "c3cf66d3",
   "metadata": {},
   "outputs": [],
   "source": [
    "eps = 0.0001\n",
    "y1 = y_test_1.replace(0, eps, inplace = False) \n",
    "y2 = y_test_2.replace(0, eps, inplace = False)\n",
    "y3 = y_test_3.replace(0, eps, inplace = False)"
   ]
  },
  {
   "cell_type": "code",
   "execution_count": 117,
   "id": "50d92b9f",
   "metadata": {},
   "outputs": [
    {
     "data": {
      "text/plain": [
       "-3945.933699889231"
      ]
     },
     "execution_count": 117,
     "metadata": {},
     "output_type": "execute_result"
    }
   ],
   "source": [
    "KLDivergence(y1, period_1_test_pred)"
   ]
  },
  {
   "cell_type": "code",
   "execution_count": 121,
   "id": "7e7f758a",
   "metadata": {},
   "outputs": [
    {
     "data": {
      "text/plain": [
       "0.0001"
      ]
     },
     "execution_count": 121,
     "metadata": {},
     "output_type": "execute_result"
    }
   ],
   "source": [
    "y1[4]"
   ]
  },
  {
   "cell_type": "code",
   "execution_count": 119,
   "id": "1c819c2f",
   "metadata": {},
   "outputs": [
    {
     "data": {
      "text/plain": [
       "array([ 20.79554633,  30.65020018,  66.29420816,  73.16454714,\n",
       "        37.72993112,  28.6877148 ,  46.65705907,  37.73520048,\n",
       "        13.36203948,  46.19224553,  39.68111652,  34.32278032,\n",
       "        36.11437535,  13.18911821,  33.36274988,  44.28510772,\n",
       "        37.86600264,  41.42689745,  27.07612279,  63.09955292,\n",
       "        25.23111165,  13.81191718,  11.76667697,  36.47245125,\n",
       "        47.9205988 ,  24.11805487,  65.30170215,  33.48079319,\n",
       "        27.12463233,  31.0557585 ,  36.16861305,  16.25061891,\n",
       "        45.67369955,  37.29389714,  35.07241205,  42.08183892,\n",
       "        16.47196946,  57.58820295,  34.37213325,  16.67940174,\n",
       "        32.26194842,  32.19977191,  50.22273064,  41.43294359,\n",
       "        27.27216598,  11.57929872,  24.73748474,  13.25243229,\n",
       "        45.12465247,  50.4924917 ,  21.28784325,  19.5404471 ,\n",
       "        57.94229745,  23.28217116,  53.87177507,  17.39978706,\n",
       "        39.7532545 ,  47.4755966 ,  53.43865829,  41.27042653,\n",
       "        14.47357757,  37.96195369,  27.52053232,  23.03221597,\n",
       "        21.90004734,  22.18083817,  47.37197015,  52.31387375,\n",
       "        23.74959879,  30.86984826,  44.28133155,  40.14905804,\n",
       "        25.29882892,  34.211317  ,  30.88628532,   7.75514645,\n",
       "        29.33586214,  44.80558082,  58.91099864,  38.17550479,\n",
       "        85.05397094,  76.39506724,  16.63818243,  32.16230261,\n",
       "        49.55384223,  73.95177602,  30.10605994,  29.85935667,\n",
       "        31.39593753,  28.19061438,  20.07936686,  13.81440641,\n",
       "        48.54205749,  46.81891606,  29.37399661,  47.31733659,\n",
       "        23.67868236,  42.74180076,  18.43852787,  51.87460662,\n",
       "        41.54202746,   5.42222171,  61.69131585,  31.3840938 ,\n",
       "        28.28468875,  17.88629691,  36.48945624,  74.46411613,\n",
       "        32.70726483,  41.20033748,  43.78577864,  13.66730172,\n",
       "         9.86580907,  10.83755311,  67.00221239,  54.59373632,\n",
       "        36.60454612,  50.23202029,  44.54284214,  30.64977828,\n",
       "        22.26007188,  40.81757687,  23.43886181,  15.42649993,\n",
       "        23.39444872,  10.93527127,  23.3545792 ,  62.18655762,\n",
       "        61.50000122,  37.19516828,  33.51477285,  36.43435017,\n",
       "        41.63383258,  39.20862896,  35.22306922,  36.22429008,\n",
       "        73.04328655,  24.07588911,  31.3045635 ,  65.31438235,\n",
       "        28.20414474,  50.17309186,  32.16939787,  27.57899041,\n",
       "        17.31329479,  46.21903326,  15.85006234,  23.5409154 ,\n",
       "        29.60388018,  32.26080232,  16.84297762,  25.8092328 ,\n",
       "        31.15505989,  35.94850601,  65.46821   ,  37.70417487,\n",
       "        15.47388287,  42.34723369,  26.46532269,  43.24773386,\n",
       "        30.94434798,  27.3027948 ,  52.87532071,  44.14444373,\n",
       "        29.45427203,  24.43604981,  20.39561141,  34.61761829,\n",
       "        31.08980063,  18.77277837,  58.81360696,  31.33269747,\n",
       "        39.06586843,  16.62291319,  22.29226275,  26.53516333,\n",
       "        29.09420392,  18.9163113 ,  31.04722855,  45.11386954,\n",
       "        16.23688212,  19.86893042,  37.75847079,  33.79525575,\n",
       "        22.65411698,  26.20237424,  43.99963415,  32.50058135,\n",
       "        28.729545  ,  32.2710503 ,  44.47989431,  71.95636527,\n",
       "        17.21315984,  62.13618372,  34.86357876,  37.78203119,\n",
       "        16.8838926 ,  29.34414191,  30.82086261,  45.18347362,\n",
       "        66.07570745,   8.51103469,  19.59138927,  23.99779325,\n",
       "        21.57616331,  29.85484925,  47.1951836 ,  30.61114683,\n",
       "        22.60553599,  40.61731945,  22.81598912,  18.79700917,\n",
       "        23.63929716,  37.12864586,  45.99188082,  17.35469264,\n",
       "        60.82356811,  25.81481474,  39.55076915,  91.56228455,\n",
       "        28.50550155,  49.73688473,  42.01810078,  39.13375175,\n",
       "        18.53090061,  44.87683501,  30.08995658,  39.45594131,\n",
       "        19.96368696,  29.95241139,  40.46392925,  25.34473988,\n",
       "        34.29616022,  24.39645996,  46.41832396,  29.77761726,\n",
       "        34.44440783,  30.92377681,  31.92301275,  30.64307348,\n",
       "        36.47388784,  25.22814931,  24.32933615,  26.24104526,\n",
       "        46.05514015,  40.70057173,  48.59923275,  14.94721166,\n",
       "        18.56909455,  13.37069089,  33.60849344,  54.67165907,\n",
       "        15.55232896,  39.79125308,  23.22113526,  49.91254715,\n",
       "        46.67508246,  40.19168981,  25.46332772,  47.56016089,\n",
       "        28.21833947,  33.54386352,  30.13377884,  67.27951813,\n",
       "        39.53790931,  31.43778132,  37.3271096 ,  33.44758856,\n",
       "        60.86687733,  42.06464004,  35.4262492 ,  52.92019441,\n",
       "        46.55040559,  56.78064632,  33.02568803,  32.78414807,\n",
       "        31.48368571,  13.38159651,  28.50786859,  28.57559554,\n",
       "        14.20150808,  27.77457315,  12.91854372,  32.0442547 ,\n",
       "         8.52400976,  29.04111922,  48.92406205,  41.73160373,\n",
       "        22.10943353,  28.58131253,   9.61909395,  51.04860923,\n",
       "        24.634997  ,  19.65426562,  40.60917246,  40.59660906,\n",
       "        26.0173813 ,  48.20779744,  67.71885478,  37.27951519,\n",
       "        67.60034553,  26.24044369,  34.80617184,  36.21436402,\n",
       "        22.5687455 ,  40.42200203,  19.66381644,  31.23880872,\n",
       "        14.81844965,  29.23321055,  44.50244227,  50.35121661,\n",
       "        43.6625273 ,  25.19629387,  26.52390966,  26.99616281,\n",
       "        25.56890752,  49.91037154,  34.32473867,  25.34029445,\n",
       "        36.58491065, 109.94766648,  55.25738054,  22.52429681,\n",
       "        18.30009486,  21.65282377,  68.67991401,  43.72725452,\n",
       "        12.80466558,  30.48315776,  22.8792636 ,  13.87801068,\n",
       "        66.01722454,  26.77225728,  31.8011072 ,  42.45074522,\n",
       "        34.58048706,  18.91953246,  19.01161683,  30.29125414,\n",
       "        32.99500145,  23.62739652,  25.60615703,  46.30622887,\n",
       "        20.82468609,  45.6694456 ,  28.57462073,  27.11898386,\n",
       "        41.3132335 ,  38.24332599,  38.50467828,  63.99976396,\n",
       "        49.5295068 ,  15.87977961,  37.68529598,  59.67887549,\n",
       "        47.64902471,  54.91098074,  27.28538651,  82.1466514 ,\n",
       "        54.03561863,  40.98331761,  37.98117852,   9.92908409,\n",
       "        29.81378221,  26.37097382,  13.68182554,  36.22849443,\n",
       "        41.17307741,  24.83906595,  50.1132027 ,  30.34996155,\n",
       "        31.13353058,  23.83486013,  22.15136125,  38.47903031,\n",
       "        28.38922245,  13.54411756,  27.01063637,  38.68172868,\n",
       "        29.42755144,  39.07030839,  38.70624773,  14.20614962,\n",
       "        53.31692539,  31.02192511,  33.89265024,  25.67623385,\n",
       "         8.90461258,  28.34252987,  31.41758422,  15.07334094,\n",
       "        18.04136456,  39.79404309,  62.09756849,  41.50582247,\n",
       "        38.26489362,  53.28551278,  47.23126752,  13.19500941,\n",
       "        17.81287241,  33.09479077,  34.74388055,  52.59583714,\n",
       "        40.77665794,  23.50827465,  27.92961158,  51.51568807,\n",
       "        49.50041491,  39.91996584,  75.31028559,  32.71580914,\n",
       "        28.69954504,  59.58880797,  23.81928486,  23.47208721,\n",
       "        65.58153546,  22.54516229,  33.78851477,  27.69298658,\n",
       "        21.52081676,  45.55757986,  48.68372436,  93.78862732,\n",
       "        48.24944359,  29.33415325,  33.7212332 ,  36.7770157 ,\n",
       "        42.05235066,  30.62775161,  59.08301667,  38.01165501,\n",
       "        35.91545731,  43.2651227 ,  30.50007038,  13.18238548,\n",
       "        18.47148081,  34.96394419,  36.82090914,  21.40565541,\n",
       "        33.97123204,  47.05364674,  39.86616897,  32.53487416,\n",
       "        20.85088588,  71.22371012,  28.27450738,  35.97983   ,\n",
       "        37.93143801,  24.00770498,  33.56681808,   9.84437706,\n",
       "        30.94348185,  31.8301233 ,  39.87355096,  64.6164577 ,\n",
       "        23.25676518,  34.82361088,  29.11965496,  27.82046923,\n",
       "        35.22937558,  46.61577272,  20.66069923,  41.06338251,\n",
       "        24.09187027,  46.99903088,  40.47089996,  15.69505383,\n",
       "        41.38239954,  54.73851267,  32.99368997,  59.3070816 ,\n",
       "        28.18166702,  45.51781522,  23.48806559,  29.99498267,\n",
       "        21.39733579,  38.43713353,  70.30794513,  37.27019984,\n",
       "        39.35356125,  50.96002742,  28.85105239,  49.73782257,\n",
       "        26.41522111,  32.28022278,  67.47070525,  43.68443291,\n",
       "        25.79782725,  18.55167076,  52.3160313 ,  27.95742412,\n",
       "        32.11622619,  41.47390497,  26.58471876,  25.71801429,\n",
       "        34.54642979,  41.33759039,  32.27520673,  21.50804786,\n",
       "        37.17552715,  29.88641439,  19.07499934,  35.3783125 ,\n",
       "        70.10533905,  37.83970739,  19.69955481,  38.16950354,\n",
       "        64.79572988,  22.37295446, 105.59645851,  30.98181588,\n",
       "       102.60630273,  27.48816192,  38.9182619 ,  19.63160404,\n",
       "        31.81974262,  16.05027378,  25.56574891,  33.36858437,\n",
       "        25.33360603,  23.68724899,  37.86662993,  35.54339025,\n",
       "        46.8715741 ,  57.12776132,  74.4606755 ,  29.79157577,\n",
       "        43.84723982,  48.20486145,  30.53962687,  21.18104993,\n",
       "        15.48853386,  13.37545946,  43.5022701 ,  15.34171101,\n",
       "        14.52414939,  43.44375279,  80.41307584,  54.40797197,\n",
       "        57.45127159,  42.46151281,  27.31907703,  37.13869227,\n",
       "        57.68109383,  14.35396445,  33.63723483,  44.42304852,\n",
       "        31.20662639,  10.91127551,  11.57378202,  30.74096308,\n",
       "        24.24847631,  22.82882733,  23.20683387,  38.87968991,\n",
       "        31.50270241,  33.7115722 ,  24.32153847,  66.78168986,\n",
       "        18.50150299,  17.99433279,  60.97737146,  40.46256944,\n",
       "        33.6950481 ,  23.05736415,  31.72679255,  54.59256365,\n",
       "        41.72252618,  25.47442791,  15.70362482,  36.83470071,\n",
       "        23.36018696,  74.32199847,  40.18435452,  57.04480262,\n",
       "        94.72286986,  14.02064471,  32.45676983,  40.81348669,\n",
       "        33.93106745, 119.05096077,  60.96885727,  12.40588974,\n",
       "        16.70682184,  40.65126884,  58.14139608,  42.84235394,\n",
       "        27.99403774,  39.89311973,  29.43971032,  43.05970926,\n",
       "        16.1638638 ,  11.36078612,  37.09569105,  31.33945097,\n",
       "        33.72006803,  56.92494118,  28.5960374 ,  67.78743946,\n",
       "        50.25297422,  35.20442993,  56.12171167,  47.71897597,\n",
       "        29.6772522 ,  61.40850795,  23.71528644,  23.17250607,\n",
       "        29.96827535,  18.00923936,  36.00690589,  22.13987206,\n",
       "        48.7654511 ,  23.3421036 ,  67.52563019,  35.60621549,\n",
       "        80.86262073,  45.78632702,  23.36483786,  38.78131712,\n",
       "        25.58079199,  46.0079073 ,  23.61860673,  62.67035931,\n",
       "        16.65828455,  65.41089068,  10.43144345,  13.87832595,\n",
       "        10.63589052,  41.58254028,  33.09638439,  24.56184695,\n",
       "        37.57900144,  32.74099874,  32.409757  ,  42.48285297,\n",
       "        23.55292598,  32.3482525 ,  32.4830463 ,  47.93045783,\n",
       "        41.24704049,  63.3449414 ,  73.34844075,  44.80689769,\n",
       "        29.12074543,  24.1301715 ,  24.0066269 ,  49.13461833,\n",
       "        28.21883865,  33.03728041,  63.29059416,  25.95411097,\n",
       "        37.6534626 ,  58.66560582,  25.64749265,  44.87357271,\n",
       "        29.65637688,  46.65536632,  24.10604523,  55.45068617,\n",
       "        86.86226769,  15.69301442,  33.70684239,  34.86135018,\n",
       "         4.09769453,  32.55520355,  43.90827919,  19.1226591 ,\n",
       "        41.15155357,  25.6622735 ,  28.79495764,  56.10460151,\n",
       "        66.61906269,  24.39699434,  54.38243719,  40.71735229,\n",
       "        29.25873807,  29.52370432,  49.11228083,  35.36145632,\n",
       "        47.42666806,  50.64528997,  28.33016424,  32.26599314,\n",
       "        16.48594126,  19.77800749,  38.02319765,  40.41240884,\n",
       "        53.05742002,  28.89132037,  30.38185893,  59.33543174,\n",
       "        22.62974457,  34.93588789,  29.51312874,  31.37879745,\n",
       "        17.30670566,  58.16558159,  34.99460859,  48.72798492,\n",
       "        53.36033559,  41.54309919,  22.17141695,  36.82400753,\n",
       "        46.17071247,  31.47086325,  39.43975736,  17.61417826,\n",
       "        17.64294298,  34.51430777,  46.9651383 ,  36.76149935,\n",
       "        28.68065249,  14.95997945,  31.79388389,  46.68947695,\n",
       "        25.98076593,  45.93206429,  37.62948352,  21.09020817,\n",
       "        36.47841159,  29.21260512,  24.00353116,  21.68017312,\n",
       "        59.22784426,   9.84359375,   9.02123978,  39.73378106,\n",
       "        39.98598121,  10.0902299 ,  11.85395198,  26.0717622 ,\n",
       "        17.6694492 ,  44.37956983,  40.4005612 ,  33.20539339,\n",
       "        30.87584274,  24.78778016,  39.74282128,  33.99719289,\n",
       "        29.36936471,  63.04168503,  10.23438105,  57.8522176 ,\n",
       "        49.19842371,  36.47874419,  49.13930463,  23.69384936,\n",
       "        37.58125471,  22.0549103 ,  57.49086117,  43.05117937,\n",
       "        52.60625134,  52.91320624,  29.85729251,  21.10469542,\n",
       "        35.82366423,  51.04861863,  31.14591752,  48.2094594 ,\n",
       "        44.48088157,  33.68475415,  32.60484296,  43.44370676,\n",
       "        48.33727364,  62.31907262,  21.76726193,  20.76319401,\n",
       "        16.83593675,  28.21338452,  76.35853991,  40.99650835,\n",
       "         8.17814195,  42.78188102,  48.85376952,  34.55604938,\n",
       "        70.90792404,  27.77746437,  21.19488248,  50.30090282,\n",
       "        16.74175999,  35.09313713,  23.91425805,  48.01466583,\n",
       "        58.48194291,  23.11186504,  23.81625921,  19.14422214,\n",
       "        57.9706091 ,  52.8223527 ,  31.45604817,  26.29238443,\n",
       "        24.61774413,  27.04989306,  40.00938721,  32.35976791,\n",
       "        29.19523262,  51.25777422,  16.56175373,  31.91764907,\n",
       "        38.49753258,  28.25186777,  16.28559978,  15.90825194,\n",
       "        19.17753789,  35.07512706,  19.75962693,  14.16519034,\n",
       "        51.54091264,  22.76368575,  30.58840416,  17.27816251,\n",
       "        25.40973976,  18.80463517,  20.10798037,  80.0377885 ,\n",
       "        17.37583244,  47.97735784,  26.51677374,  48.08714559,\n",
       "        38.42404681,  28.27708737,  22.79699133,  12.08586478,\n",
       "        17.59873941,  37.95624761,  17.68666336,  60.41421471,\n",
       "        26.13523765,  47.67726943,  41.64721625,  34.12698594,\n",
       "        61.78012606,  28.94403511,  31.1557169 ,  47.69347127,\n",
       "        36.45162141,  28.05494457,  52.96009849,  68.37690217,\n",
       "        52.32629074,  21.62761835,  27.71112504,  36.36440143,\n",
       "        23.54498275,  37.19923358,  25.24780323,  62.09760235,\n",
       "        33.08225278,  30.64147274,  38.21997083,  37.86132667,\n",
       "        39.21288391,  11.87437587,  34.15471177,  84.87999972,\n",
       "        81.47759029,  27.54909963,  22.75968165,  23.39031976,\n",
       "        24.54428088,  14.13442451,  19.9438784 ,  59.99763633,\n",
       "        33.64379987,  25.55636609,  32.17736329,  49.88383408,\n",
       "        28.22940052,  69.57193836,  14.0302308 ,  23.18730519,\n",
       "        44.50662078,  58.63162474,  35.52706293,  45.86066418,\n",
       "        60.40216264,  76.52026893,  30.43986243,  24.71788117,\n",
       "        15.75329071,  49.80340446,  20.25292177,  51.59887199,\n",
       "        38.04747176,  33.90797538,  29.16351627,  32.85522302,\n",
       "        38.90858135,  25.8862501 ,  32.8737181 ,  86.52572291,\n",
       "        88.82489972,  37.7173857 ,  38.61025433,  25.93317757,\n",
       "        62.2165451 ,  68.16287151,  38.13577269,  25.22754711,\n",
       "        18.46277969,  51.88607096,  17.09092288,  31.43364693,\n",
       "        21.9153251 ,  58.75772279,  43.59670459,  85.40108218,\n",
       "        43.90536405,  29.8718194 ,  20.08664451,  22.02647043,\n",
       "        25.3829823 ,  15.91505921,  65.75420232,  18.77120891,\n",
       "        18.9604165 ,  17.56737877,  77.05162827,  83.00725253,\n",
       "        33.25910529,  22.92472793,  38.69387564,  34.21954661,\n",
       "        43.94942655,  32.23012553,  16.66964967,  13.77486102,\n",
       "        20.16850698,  40.60211412,  19.42891281,  48.11324143,\n",
       "        16.96971471,  18.36983591,  26.22959559,  22.59851225,\n",
       "        32.87922217,  37.3783841 ,  27.86116588,  16.24113003,\n",
       "        37.90375728,  25.02735528,  48.2000205 ,  38.77481159,\n",
       "        27.51190557,  36.90171268,  58.23145339,  21.16584934,\n",
       "        40.82957975,  35.90613965,   9.20861652,  47.04182105,\n",
       "        49.2212287 ,  24.06461912,  52.59578669,  23.50806892,\n",
       "        62.49352171,  49.45819361,  33.61761684,  48.5806894 ,\n",
       "        22.59803137,  55.32736903,  40.53952981,  32.02709073,\n",
       "        27.84079357,  57.30462936,  23.89052081,  51.45055396,\n",
       "        15.46144493,  27.99671394,  23.74944006,  42.90141965,\n",
       "        39.41230101,  77.37976422,  43.07634833,  40.12053159,\n",
       "        22.50929334,  27.61586243,  18.87106311,  34.14118581,\n",
       "        13.2623809 ,  23.62974473,  16.13718167,  40.46401535,\n",
       "        39.19983056,  24.60421294,  16.84277208,  35.82744233,\n",
       "        56.18286088,  31.55152258,  40.11314813,  37.84055996,\n",
       "        39.17421403,  20.08678354,  42.60110955,  32.20305701,\n",
       "        26.90191908,  18.20907928,  37.64367412,  74.93159652])"
      ]
     },
     "execution_count": 119,
     "metadata": {},
     "output_type": "execute_result"
    }
   ],
   "source": [
    "period_1_test_pred"
   ]
  },
  {
   "cell_type": "code",
   "execution_count": 112,
   "id": "94ce0bee",
   "metadata": {},
   "outputs": [
    {
     "data": {
      "text/plain": [
       "-4155.150280889961"
      ]
     },
     "execution_count": 112,
     "metadata": {},
     "output_type": "execute_result"
    }
   ],
   "source": [
    "KLDivergence(y2, period_2_test_pred)"
   ]
  },
  {
   "cell_type": "code",
   "execution_count": 113,
   "id": "d61bf432",
   "metadata": {},
   "outputs": [
    {
     "data": {
      "text/plain": [
       "-4370.852387736524"
      ]
     },
     "execution_count": 113,
     "metadata": {},
     "output_type": "execute_result"
    }
   ],
   "source": [
    "KLDivergence(y3, period_3_test_pred)"
   ]
  },
  {
   "cell_type": "code",
   "execution_count": 114,
   "id": "28e37b9f",
   "metadata": {},
   "outputs": [
    {
     "data": {
      "text/plain": [
       "644.6119466130647"
      ]
     },
     "execution_count": 114,
     "metadata": {},
     "output_type": "execute_result"
    }
   ],
   "source": [
    "JSDivergence(y1, period_1_test_pred)"
   ]
  },
  {
   "cell_type": "code",
   "execution_count": 115,
   "id": "d4946483",
   "metadata": {},
   "outputs": [
    {
     "data": {
      "text/plain": [
       "882.1973275622388"
      ]
     },
     "execution_count": 115,
     "metadata": {},
     "output_type": "execute_result"
    }
   ],
   "source": [
    "JSDivergence(y2, period_2_test_pred)"
   ]
  },
  {
   "cell_type": "code",
   "execution_count": 116,
   "id": "dda7ad58",
   "metadata": {},
   "outputs": [
    {
     "data": {
      "text/plain": [
       "1717.5776668311214"
      ]
     },
     "execution_count": 116,
     "metadata": {},
     "output_type": "execute_result"
    }
   ],
   "source": [
    "JSDivergence(y3, period_3_test_pred)"
   ]
  },
  {
   "cell_type": "code",
   "execution_count": 73,
   "id": "def3d816",
   "metadata": {},
   "outputs": [
    {
     "data": {
      "text/plain": [
       "0.5364028105090036"
      ]
     },
     "execution_count": 73,
     "metadata": {},
     "output_type": "execute_result"
    }
   ],
   "source": [
    "WassersteinDistance(y_test_1, period_1_test_pred, 2)"
   ]
  },
  {
   "cell_type": "code",
   "execution_count": 75,
   "id": "6c897c4f",
   "metadata": {},
   "outputs": [
    {
     "data": {
      "text/plain": [
       "0.5727708331879058"
      ]
     },
     "execution_count": 75,
     "metadata": {},
     "output_type": "execute_result"
    }
   ],
   "source": [
    "WassersteinDistance(y_test_2, period_2_test_pred, 2)"
   ]
  },
  {
   "cell_type": "code",
   "execution_count": 76,
   "id": "0d2b2149",
   "metadata": {},
   "outputs": [
    {
     "data": {
      "text/plain": [
       "0.6917731456763292"
      ]
     },
     "execution_count": 76,
     "metadata": {},
     "output_type": "execute_result"
    }
   ],
   "source": [
    "WassersteinDistance(y_test_3, period_3_test_pred, 2)"
   ]
  },
  {
   "cell_type": "code",
   "execution_count": null,
   "id": "22a917c3",
   "metadata": {},
   "outputs": [],
   "source": []
  }
 ],
 "metadata": {
  "kernelspec": {
   "display_name": "Python 3",
   "language": "python",
   "name": "python3"
  },
  "language_info": {
   "codemirror_mode": {
    "name": "ipython",
    "version": 3
   },
   "file_extension": ".py",
   "mimetype": "text/x-python",
   "name": "python",
   "nbconvert_exporter": "python",
   "pygments_lexer": "ipython3",
   "version": "3.6.13"
  }
 },
 "nbformat": 4,
 "nbformat_minor": 5
}
